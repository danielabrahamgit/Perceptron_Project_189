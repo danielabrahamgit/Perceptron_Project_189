{
 "cells": [
  {
   "cell_type": "code",
   "execution_count": 1,
   "metadata": {},
   "outputs": [],
   "source": [
    "import numpy as np\n",
    "import random\n",
    "from random import randrange\n",
    "import matplotlib.pyplot as plt"
   ]
  },
  {
   "cell_type": "markdown",
   "metadata": {},
   "source": [
    "# Perceptrons Notebook"
   ]
  },
  {
   "cell_type": "markdown",
   "metadata": {},
   "source": [
    "# Part 1: Binary Perceptron"
   ]
  },
  {
   "cell_type": "markdown",
   "metadata": {},
   "source": [
    "In order to gain a deeper understanding of Machine Learning and Neural Networks, we are going to have to start out by learning about Perceptrons.  In this notebook we will be building our own Perceptron class by hand, examining its performance on different datasets, and learning how to use prebuilt python libraries to implement this classifier.   \n",
    "\n",
    "\n",
    "\n",
    "Perceptrons are the building blocks of Neural Networks, and while this may sound complicated, their function is well defined by simple Linear Algebra concepts that you are already very familiar with.  As with Neural Networks in general, Perceptrons can be understood through an analogy to biology.  Our brain is composed of Neurons; each Neuron has many dendrites branching out to recieve signals, a cell body that process these inputs, and a single Axon which sends out information to other Neurons.  While a single Neuron cannot accomplish much on its own, combining a whole network of them allows for the incedible functionality that we get from our brain.  An Artificial Neural Network functions in much the same way, with powerful emergent properties coming out of the combination of simple building blocks.  In this analogy, the Perceptron acts as a single Neuron.  And while in later weeks we will examine how Neural Networks are formed by linking these together, this week we will focus on the structure of a single Perceptron and the problems it is able to solve."
   ]
  },
  {
   "cell_type": "markdown",
   "metadata": {},
   "source": [
    "### Introduction\n",
    "\n",
    "A Perceptron is known as a Binary Linear Classifier.  This means it is a good model to use so long as we have a set of linearly separable data that we want to put into two different categories.  While later in this homework you will look into the different python toolkits that allow us to work with Perceptrons, we will start off by building one by hand.  Perceptrons are relatively simple to construct, and doing so should give you a deeper understanding of how and when to use the prebuilt libraries.\n",
    "\n",
    "![title](Materials/perceptronModel.png)\n",
    "\n",
    "Above is a picture of a Perceptron. From here the components should be pretty easy to see.  We have an array of inputs, their corresponding weights, and an activation function (in the above model this activation function is more specifically a step function).  Make sure this picture makes sense to you, because now we will be building out a Perceptron class.  <br>Specifically, we want our Perceptron class to be able to do the following:\n",
    "* Take a weighted sum\n",
    "* Compute an activation function\n",
    "* Train our weights\n",
    "* Predict a classification\n",
    "\n",
    "It is okay if all of those bullet points don't make sense to you right now.  We suggest scrolling down to read over the perceptron class and get a sense for what code you need to fill in.  But the specifics are covered in the next few sections, going over precisely what needs to be implemented and why."
   ]
  },
  {
   "cell_type": "markdown",
   "metadata": {},
   "source": [
    "## (TODO) Weighted Sum\n",
    "\n",
    "The first step in building a Perceptron is being able to calculate the weighted sum. The summation of weighted inputs should draw your mind to a familiar concept.  Note how this changes when you want process multiple inputs at once. Specifically for a $d$ dimensioned datapoint, the function we are coding is as follows:\n",
    "$$weightedSum=\\sum_{i=1}^d x_i*w_i$$\n",
    "\n",
    "Fill in **Part1** of the weightedSum function.  This function should be able to handle multiple inputs at once, where $X$ is passed in as a $R^{nxd}$ dimensioned matrix where $n$ is the number of datapoints and $d$ is their dimension."
   ]
  },
  {
   "cell_type": "markdown",
   "metadata": {},
   "source": [
    "## (TODO) Activation Function\n",
    "\n",
    "Next we will take a look at the activation function.  An activation function is a non-linear function that in our case maps a value to a binary output.  There are a lot of different activation functions that can be used, but the one we use for Perceptron is very simple:\n",
    "\n",
    "$$ f(x) = \n",
    "        \\begin{cases}\n",
    "        1, x \\geq 0 \\\\\n",
    "        -1, x < 0\n",
    "        \\end{cases} \n",
    "$$\n",
    " "
   ]
  },
  {
   "cell_type": "markdown",
   "metadata": {},
   "source": [
    "When we pass in our weighted sum to this activation function, we are using information about a point of data to assign it to one of two categories, -1 or 1.  The binary part of Binary Linear Classifier should now make sense. We have started a function called activation below, fill in the code for **Part 2** so that the activation performs as it is defined above."
   ]
  },
  {
   "cell_type": "markdown",
   "metadata": {},
   "source": [
    "## (TODO) Prediction\n",
    "\n",
    "A Perceptron should be able to take an input and predict what class it belongs to, -1 or 1.  With what we have currently, you should be able to implement this logic.  Write the code for **Part 3** in the prediction function of the Perceptron class.  Make sure to utalize the functions you have already written. "
   ]
  },
  {
   "cell_type": "markdown",
   "metadata": {},
   "source": [
    "## (TODO) Train Weights"
   ]
  },
  {
   "cell_type": "markdown",
   "metadata": {},
   "source": [
    "We will not be able to get a good prediction for our data if we don't have the correct weights.  Really, the main \n",
    "point of Perceptron is to determine the weight on each input that will allow us to achieve accurate classification of our data.  We do this by initializing our weights to zero and then using the Perceptron update formula.  To perform an update, we will loop through every datapoint and if that point (with true value $y^*_i$) is misclassified, change the weights using:\n",
    "\n",
    "$${w}_{new} = {w}_{old} + r * y^*_i * {x}_i$$\n",
    "\n",
    "Implement this update formula in **Part 4** of the train function below"
   ]
  },
  {
   "cell_type": "code",
   "execution_count": 2,
   "metadata": {},
   "outputs": [],
   "source": [
    "class Perceptron():\n",
    "    \"\"\"\n",
    "    Perceptron class for Binary Linear Classification.\n",
    "    \"\"\"\n",
    "    weights = []\n",
    "        \n",
    "    def weightedSum(inputs,weights):\n",
    "        \"\"\"\n",
    "        Write the code for calculating the Perceptrons weighted sum.\n",
    "        inputs - nxd dimensional matrix\n",
    "\n",
    "        return - nx1 column vector of weighted sums\n",
    "        \"\"\"\n",
    "        result = None\n",
    "        #Use self.weights for the weights\n",
    "        #TODO: PART 1\n",
    "        #Start \n",
    "        result = inputs@weights\n",
    "        #End\n",
    "\n",
    "        return result\n",
    "\n",
    "    def activation(x):\n",
    "        \"\"\"\n",
    "        Write the code for the Perceptron activation function.\n",
    "        x - nx1 column vector\n",
    "\n",
    "        return - nx1 column vector of 1's and 0's\n",
    "        \"\"\"\n",
    "        result = None\n",
    "\n",
    "        ##TODO: PART 2\n",
    "        #Start\n",
    "        x[x>=0] = 1\n",
    "        x[x<0] = -1\n",
    "        result = x\n",
    "        #End\n",
    "\n",
    "        return result\n",
    "    \n",
    "    \n",
    "    def predict(self,inputs):\n",
    "        \"\"\"\n",
    "        Calculates predicted class for each input\n",
    "        \n",
    "        inputs - n x d matrix\n",
    "        \n",
    "        return - n x 1 column vector\n",
    "        \"\"\"\n",
    "        pred = []\n",
    "        #TODO: Part 3\n",
    "        #Start\n",
    "        pred = Perceptron.activation(Perceptron.weightedSum(inputs, self.weights))\n",
    "        #End\n",
    "        return pred\n",
    "    \n",
    "    def train(self, inputs, classes):\n",
    "        \"\"\"\n",
    "        Update self.weights for better classification.\n",
    "        \n",
    "        inputs - n x d matrix\n",
    "        classes - n x 1 column vector\n",
    "        \"\"\"\n",
    "        num_samples = inputs.shape[0]\n",
    "        dim = inputs.shape[1]\n",
    "        self.weights = np.zeros((dim,1))\n",
    "        r = .1\n",
    "\n",
    "        stop = 10000\n",
    "        converged = True\n",
    "        for i in range(stop):\n",
    "            #TOD0: Part 4\n",
    "            #Start\n",
    "            pred = self.predict(inputs)\n",
    "            for x in range(num_samples):\n",
    "                if classes[x] != pred[x]:\n",
    "                    converged = False\n",
    "                    modifier = r*classes[x]*inputs[x,:]\n",
    "                    modifier = modifier.reshape((dim,-1))\n",
    "                    self.weights += modifier\n",
    "            if converged:\n",
    "                break\n",
    "            converged = True\n",
    "            #End"
   ]
  },
  {
   "cell_type": "markdown",
   "metadata": {},
   "source": [
    "As this point you may have two questions.  What is r? And when do we stop updating?  r is our learning rate. it scales how much our weights change each update. This is know as a hyperparameter, and while you don't need to understand what that means right now, just know it is a value we can change to optimize our performace. In this notebook just set r=.1. \n",
    "And as for when to stop updating, we can see from the algorithm that this is done once we have no incorrect classifications in a single update loop. However, for data that is not linearly separable, this case will never be reached and we will get stuck in an infinite loop. Therefore it is good practice to put a break condition into the code such as a max length of time or number of iterations.\n",
    "\n"
   ]
  },
  {
   "cell_type": "markdown",
   "metadata": {},
   "source": [
    "## Real Data\n",
    "With our Perceptron class defined, we can now take a look at how it performs on actual data.  Imagine you are playing a little game with your friends.  Sally has two types of candy; both look identical but one is incredibly spicy.  She lays these candies out on the table according to a linear pattern, and you are trying to avoid the spicy ones while getting the tasty ones.  Sally promises that she will keep the pattern the same for everyone and lets you go last.  \n",
    "\n",
    "You think that you can train a Perceptron to uncover this pattern, so you pay close attention to where all the tasty and spicy candies were for your other friends.  Run the cell below to generate the observed locations of the candy and their corresponding flavors. "
   ]
  },
  {
   "cell_type": "code",
   "execution_count": 3,
   "metadata": {},
   "outputs": [
    {
     "data": {
      "text/plain": [
<<<<<<< HEAD
       "[<matplotlib.lines.Line2D at 0x1c717ce4e48>,\n",
       " <matplotlib.lines.Line2D at 0x1c717cfc308>]"
=======
       "[<matplotlib.lines.Line2D at 0x244e62459c8>,\n",
       " <matplotlib.lines.Line2D at 0x244e875a348>]"
>>>>>>> bcc3baaea059a7eab6c63cec01ec7990b3d4901c
      ]
     },
     "execution_count": 3,
     "metadata": {},
     "output_type": "execute_result"
    },
    {
     "data": {
<<<<<<< HEAD
      "image/png": "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\n",
=======
      "image/png": "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\n",
>>>>>>> bcc3baaea059a7eab6c63cec01ec7990b3d4901c
      "text/plain": [
       "<Figure size 432x288 with 1 Axes>"
      ]
     },
     "metadata": {
      "needs_background": "light"
     },
     "output_type": "display_data"
    }
   ],
   "source": [
    "def generateData(num, min_error):\n",
    "    \"\"\"\n",
    "    Generates previously seen candy locations.\n",
    "    \n",
    "    return - (data, classes)\n",
    "        data: num x 2 Matrix of [x, y] positions\n",
    "        classes: num x 1 column vector of 1s (first num/2) and -1s (last num/2)\n",
    "    \"\"\"\n",
    "    data = []\n",
    "    classes = []\n",
    "    split = int(num/2)\n",
    "    for i in range(split):\n",
    "        x = randrange(-10,10)\n",
    "        y = x + 12\n",
    "        y += randrange(min_error,12)\n",
    "        data.append([x,y])\n",
    "        classes.append([1])\n",
    "    for i in range(split):\n",
    "        x = randrange(-10,10)\n",
    "        y = x + 12\n",
    "        y += randrange(-12,-min_error)\n",
    "        data.append([x,y])\n",
    "        classes.append([-1])\n",
    "    data = np.array(data)\n",
    "    classes = np.array(classes)\n",
    "    return (data, classes)\n",
    "\n",
    "candy_locations, candy_flavors = generateData(60,4)\n",
    "plt.plot(candy_locations[:30,0], candy_locations[:30,1], 'bo', candy_locations[30:,0], candy_locations[30:,1], 'ro')"
   ]
  },
  {
   "cell_type": "markdown",
   "metadata": {},
   "source": [
    "## (TODO) Unseen Data\n",
    "It is almost your turn to play the game, but you want to test how well your Perceptron does before you put your tastebuds on the line.  John is going directly before you, so you try to predict the outcome of his game.  **Finish the getAccuracy function** below that calculates how accurately your perceptron predicts the labels of new data. \n",
    "\n",
    "After writing that code, run the cell to see how well your perceptron does on John's data and **comment on the results you see**. Does it do a good job predicting?  Why or why not? How does the visualization help explain what is going on?\n"
   ]
  },
  {
   "cell_type": "code",
   "execution_count": 4,
   "metadata": {},
   "outputs": [
    {
     "name": "stdout",
     "output_type": "stream",
     "text": [
<<<<<<< HEAD
      "Accuracy:  0.6\n"
=======
      "Accuracy:  0.5\n"
>>>>>>> bcc3baaea059a7eab6c63cec01ec7990b3d4901c
     ]
    },
    {
     "data": {
      "text/plain": [
<<<<<<< HEAD
       "[<matplotlib.lines.Line2D at 0x1c717dbadc8>]"
=======
       "[<matplotlib.lines.Line2D at 0x244e87dbbc8>]"
>>>>>>> bcc3baaea059a7eab6c63cec01ec7990b3d4901c
      ]
     },
     "execution_count": 4,
     "metadata": {},
     "output_type": "execute_result"
    },
    {
     "data": {
<<<<<<< HEAD
      "image/png": "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\n",
=======
      "image/png": "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\n",
>>>>>>> bcc3baaea059a7eab6c63cec01ec7990b3d4901c
      "text/plain": [
       "<Figure size 432x288 with 1 Axes>"
      ]
     },
     "metadata": {
      "needs_background": "light"
     },
     "output_type": "display_data"
    }
   ],
   "source": [
    "john_locations, john_flavors = generateData(20,4) #You should compare your perceptron's result to john_flavors\n",
    "candy_perceptron = Perceptron() #Train this perceptron\n",
    "\n",
    "def getAccuracy(perceptron, X, Y, newX, newY):\n",
    "    \"\"\"\n",
    "    Calculates how accurately perceptron predicts the newY for newX after being trained on X and Y\n",
    "    \n",
    "    perceptron - the perceptron to train and use for predictions\n",
    "    X - X data for training (candy_locations) \n",
    "    Y - Labels for training (candy_flavors) \n",
    "    newX - newly aquired data for prediction (john_locations)\n",
    "    newY - labels of new data for determining accuracy of prediction (john_flavors)\n",
    "    \"\"\"\n",
    "    Accuracy = 0\n",
    "    #TODO\n",
    "    #Start\n",
    "    perceptron.train(X, Y)\n",
    "    pred = perceptron.predict(newX)\n",
    "    correct = 0\n",
    "    num_candies = len(pred)\n",
    "    for i in range(num_candies):\n",
    "        if newY[i] == pred[i]:\n",
    "            correct += 1\n",
    "    Accuracy = correct/num_candies\n",
    "    #End\n",
    "    \n",
    "    print(\"Accuracy: \", Accuracy)\n",
    "\n",
    "#Calculating how well your perceptron predicts the flavor of john's candy\n",
    "getAccuracy(candy_perceptron, candy_locations, candy_flavors, john_locations, john_flavors)\n",
    "\n",
    "#Visualizing your results\n",
    "plt.plot(john_locations[:10,0], john_locations[:10,1], 'bo', john_locations[10:,0], john_locations[10:,1], 'ro')\n",
    "weights = candy_perceptron.weights\n",
    "x = np.linspace(-10, 10, 1000)\n",
    "plt.plot(x, -(weights[0]/weights[1])*x)\n",
    "\n",
    "\n"
   ]
  },
  {
   "cell_type": "markdown",
   "metadata": {},
   "source": [
    "### Write Your Comments Here:\n",
    "We clearly have very low accuracy here, the Perceptron does not generate a line that seperates the data well.  The line goes through the origin while our data is clearly seperated by a linear equation with a different y-intercept."
   ]
  },
  {
   "cell_type": "markdown",
   "metadata": {},
   "source": [
    "## (TODO) Add Bias\n",
    "\n",
    "You may have noticed that your perceptron did not do a great job making predictions and separating the data.  In this section we will explore why this is.  If you look closely at the perceptron diagram at the start of this assignment, you should notice one key aspect that we have not included.  It is the constant term that is added into the weighted sum, this is what we call the bias.  To analyze why this is needed, lets take a look at the 2D example of a Perceptron.  If we have inputs $x_1$ and $x_2$ and weights $w_1$ and $w_2$, taking the weighted sum combined with our activation function gives us a boundary at:\n",
    "\n",
    "$$x_1*w_1 + x_2*w_2 = 0$$\n",
    "$$x_2 = -\\frac{w_1}{w_2}*x_1$$\n",
    "\n",
    "As you can see, this defines a line at the origin with a slope of $-\\frac{w_1}{w_2}$.  If you look back at the results from John's data, you should see that the line our perceptron generated is indeed going through the origin.  Clearly no such line will be good at separating our data, so we need to add a bias if we want a line with a different y-intercept.  When we append a constant to our input and give it a corresponding weight, our 2D example becomes:\n",
    "\n",
    "$$1*w_0 + x_1*w_1 + x_2*w_2 = 0$$\n",
    "$$x_2 = -\\frac{w_1}{w_2}*x_1 - \\frac{w_0}{w_2}$$\n",
    "\n",
    "As you can see, this defines a new line with the same slope as before, but a y-intercept now at $- \\frac{w_0}{w_2}$.  This extends to higher dimensions as well; a constant term should always be augmented to the input data. **Lets implement this step by filling in the addBias function below.**"
   ]
  },
  {
   "cell_type": "code",
   "execution_count": 5,
   "metadata": {},
   "outputs": [],
   "source": [
    "def addBias(inputs):\n",
    "        \"Returns the inputs but with the bias added in\"\n",
    "        #TODO: Part 5\n",
    "        #Start\n",
    "        inputs = np.concatenate([np.ones((inputs.shape[0], 1)), inputs], axis=1)\n",
    "        #End\n",
    "        \n",
    "        return inputs"
   ]
  },
  {
   "cell_type": "markdown",
   "metadata": {},
   "source": [
    "## (TODO) Accuracy with Bias\n",
    "After failing at predicting John's candy flavors the first time, you have your fingers crossed that the added bias term will get your Perceptron working better.  **Fill in code below to calculate your accuracy on the augmented data and comment on the performance you see.**"
   ]
  },
  {
   "cell_type": "code",
   "execution_count": 6,
   "metadata": {},
   "outputs": [
    {
     "name": "stdout",
     "output_type": "stream",
     "text": [
<<<<<<< HEAD
      "Accuracy:  0.95\n"
=======
      "Accuracy:  1.0\n"
>>>>>>> bcc3baaea059a7eab6c63cec01ec7990b3d4901c
     ]
    },
    {
     "data": {
      "text/plain": [
<<<<<<< HEAD
       "[<matplotlib.lines.Line2D at 0x1c717e33bc8>]"
=======
       "[<matplotlib.lines.Line2D at 0x244e8863bc8>]"
>>>>>>> bcc3baaea059a7eab6c63cec01ec7990b3d4901c
      ]
     },
     "execution_count": 6,
     "metadata": {},
     "output_type": "execute_result"
    },
    {
     "data": {
<<<<<<< HEAD
      "image/png": "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\n",
=======
      "image/png": "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\n",
>>>>>>> bcc3baaea059a7eab6c63cec01ec7990b3d4901c
      "text/plain": [
       "<Figure size 432x288 with 1 Axes>"
      ]
     },
     "metadata": {
      "needs_background": "light"
     },
     "output_type": "display_data"
    }
   ],
   "source": [
    "#TODO\n",
    "#Start\n",
    "getAccuracy(candy_perceptron, addBias(candy_locations), candy_flavors, addBias(john_locations), john_flavors)\n",
    "#End\n",
    "\n",
    "#Visualizing your results\n",
    "plt.plot(john_locations[:10,0], john_locations[:10,1], 'bo', john_locations[10:,0], john_locations[10:,1], 'ro')\n",
    "weights = candy_perceptron.weights\n",
    "x = np.linspace(-10, 10, 1000)\n",
    "plt.plot(x, -(weights[1]/weights[2])*x - (weights[0]/weights[2]))"
   ]
  },
  {
   "cell_type": "markdown",
   "metadata": {},
   "source": [
    "### Write Your Comments Here:\n",
    "Adding the bias in fixes our issues.  The Perceptron can now generate an appropriate boundary that exactly seperates our data."
   ]
  },
  {
   "cell_type": "markdown",
   "metadata": {},
   "source": [
    "## Final Run\n",
    "It is finally your turn to play the game; armed with your perceptron you are feeling very confident in your chances of avoiding all of the spicy candy. Sally puts down the candy on the table following the same linear pattern as before.  You run your perceptron and eat all the candies that it predicts to be tasty.  Look at the output below and comment on the results you see.  **Did you end up eating any spicy candy? If so, what do you think went wrong? And come up with at least one thing you might be able to do to increase your accuracy.**"
   ]
  },
  {
   "cell_type": "code",
   "execution_count": 7,
   "metadata": {},
   "outputs": [
    {
     "name": "stdout",
     "output_type": "stream",
     "text": [
      "Accuracy:  0.95\n"
     ]
    },
    {
     "data": {
      "text/plain": [
<<<<<<< HEAD
       "[<matplotlib.lines.Line2D at 0x1c717eafe48>]"
=======
       "[<matplotlib.lines.Line2D at 0x244e88e6e88>]"
>>>>>>> bcc3baaea059a7eab6c63cec01ec7990b3d4901c
      ]
     },
     "execution_count": 7,
     "metadata": {},
     "output_type": "execute_result"
    },
    {
     "data": {
<<<<<<< HEAD
      "image/png": "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\n",
=======
      "image/png": "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\n",
>>>>>>> bcc3baaea059a7eab6c63cec01ec7990b3d4901c
      "text/plain": [
       "<Figure size 432x288 with 1 Axes>"
      ]
     },
     "metadata": {
      "needs_background": "light"
     },
     "output_type": "display_data"
    }
   ],
   "source": [
    "sally_locations, sally_flavors = generateData(20,0) \n",
    "getAccuracy(candy_perceptron, addBias(candy_locations), candy_flavors, addBias(sally_locations), sally_flavors)\n",
    "#Visualizing you results\n",
    "plt.plot(sally_locations[:10,0], sally_locations[:10,1], 'bo', sally_locations[10:,0], sally_locations[10:,1], 'ro')\n",
    "weights = candy_perceptron.weights\n",
    "x = np.linspace(-10, 10, 1000)\n",
    "plt.plot(x, -(weights[1]/weights[2])*x - (weights[0]/weights[2]))\n"
   ]
  },
  {
   "cell_type": "markdown",
   "metadata": {},
   "source": [
    "### Write Your Comments Here:\n",
    "Unless you are very lucky, you probably noticied that the perceptron misclassified some of the candy.  Even after taking data from your friends' games, the Perceptron was not able to pick up on the exact linear pattern that Sally was following.  So when she laid out the candy for your, some of the pieces right near the boundary were labeled incorrectly.  There are a couple valid solutions, an easy one is to watch your friends play more games so you can gather more data.  Another less obvious solution that touches on topics learned later in this course would be to pick a boundary line exactly inbetween the two classes of data (if you scroll up you should see that our Perceptron's line isn't totally centered)"
   ]
  },
  {
   "cell_type": "markdown",
   "metadata": {},
   "source": [
    "## Binary Perceptron Conclusions"
   ]
  },
  {
   "cell_type": "markdown",
   "metadata": {},
   "source": [
    "Hopefully this first part of the notebook has given you a better understanding of what a Perceptron is and how they are used.  After building your own Perceptron class you should not only understand why it is called a Binary Linear Classifier, but also see the importance of the bias term.  Finally, the last section should have made clear some of the shortcomings of Perceptron, especially when we are lacking data.  In the next part of this notebook we will be exploring how Perceptron can (and can't) be used on some more advanced problems.  You will also be introcuded to the prebuilt python libraries that you can use to implement Perceptron. "
   ]
  },
  {
   "cell_type": "markdown",
   "metadata": {},
   "source": [
    "# Part 2: Multiclass Perceptron"
   ]
  },
  {
   "cell_type": "markdown",
   "metadata": {},
   "source": [
    "In this part of the notebook, we will cover an extension of the Binary Perceptron that was done above. Recall that for the Binary Perceptron, one requirement of the data was that there could only be two output classes. This meant that if we wanted to classify some input as more than just two outputs, we would have to look elsewhere for a solution. However, with some slight modifications to the Binary Perceptron, we are able to classify inputs with any amount of labels. "
   ]
  },
  {
   "cell_type": "markdown",
   "metadata": {},
   "source": [
    "To motivate studying the Multiclass Perceptron, let us revisit the candy example. Recall that Sally had two types of candy (spicy or sweet) and our job was to determine what type a candy was. Suppose that Sally now has three types of candy: spicy, sweet, and salty. Now instead of laying out the candies in some linear pattern, Sally decides to make it easier for us by putting candies of similar type near each other into clusters. Even though our goal still remains the same, we cannot use the binary perceptrons since there's more than two classes. We represent the candy type in code as labels 0, 1, or 2."
   ]
  },
  {
   "cell_type": "code",
   "execution_count": 8,
   "metadata": {},
   "outputs": [
    {
     "data": {
<<<<<<< HEAD
      "image/png": "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\n",
=======
      "image/png": "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\n",
>>>>>>> bcc3baaea059a7eab6c63cec01ec7990b3d4901c
      "text/plain": [
       "<Figure size 432x288 with 1 Axes>"
      ]
     },
     "metadata": {
      "needs_background": "light"
     },
     "output_type": "display_data"
    }
   ],
   "source": [
    "def generate_multiclass_data(c1, c2, c3, dis, size):\n",
    "    center1 = c1\n",
    "    center2 = c2\n",
    "    center3 = c3\n",
    "    distance = dis\n",
    "    size = size\n",
    "    data = []\n",
    "    classes = []\n",
    "    x1 = np.random.uniform(center1[0], center1[0] + distance, size=(size,))\n",
    "    y1 = np.random.normal(center1[1], distance, size=(size,)) \n",
    "    for i in range(size):\n",
    "        data.append([x1[i], y1[i]])\n",
    "        classes.append(0)\n",
    "\n",
    "    x2 = np.random.uniform(center2[0], center2[0] + distance, size=(size,))\n",
    "    y2 = np.random.normal(center2[1], distance, size=(size,)) \n",
    "    for i in range(size):\n",
    "        data.append([x2[i], y2[i]])\n",
    "        classes.append(1)\n",
    "\n",
    "    x3 = np.random.uniform(center3[0], center3[0] + distance, size=(size,))\n",
    "    y3 = np.random.normal(center3[1], distance, size=(size,)) \n",
    "    for i in range(size):\n",
    "        data.append([x3[i], y3[i]])\n",
    "        classes.append(2)\n",
    "        \n",
    "    plt.scatter(x1, y1)\n",
    "    plt.scatter(x2, y2)\n",
    "    plt.scatter(x3, y3)\n",
    "    plt.show()\n",
    "\n",
    "    return np.array(data), np.array(classes)\n",
    "    \n",
    "# plt.plot(data[:40,0], data[:40,1], 'bo', data[40:,0], data[40:,1], 'ro', \n",
    "#          data[80:,0], data[80:,1], 'go')\n",
    "candy_data, candy_classes = generate_multiclass_data((-5, -5), (3, 20), (12, 5), 4, 40)\n",
    "candy_data = addBias(candy_data)"
   ]
  },
  {
   "cell_type": "markdown",
   "metadata": {},
   "source": [
    "As we can see from the data, even though our binary perceptron will not work on this type of data, we should be able to classify the candy since they are in very distinct groups.  "
   ]
  },
  {
   "cell_type": "markdown",
   "metadata": {},
   "source": [
    "## (TODO) Modifying Weights\n",
    "The first modification we make to our perceptron is to the weights. In the binary case, we could get away with just using one weight vector because by taking the dot product of this vector and the input, we could use a threshold to classify into two cases. However, with more than two cases we cannot use this trick and thus need a weight vector for each possible class. Update the MultiClassPerceptron to account for this."
   ]
  },
  {
   "cell_type": "markdown",
   "metadata": {},
   "source": [
    "## (TODO) Modifying Classification\n",
    "Because we have more than one weight vector, we cannot classify by just taking a single dot product. Instead, to classify an input point, we compute the dot product of the point with every weight vector. The class that we predict the input as is then the class corresponding to the largest dot product. Mathematically, this is taking the argmax of the dot product of our input and every weight vector."
   ]
  },
  {
   "cell_type": "markdown",
   "metadata": {},
   "source": [
    "### What does this mean for our activation function?"
   ]
  },
  {
   "cell_type": "markdown",
   "metadata": {},
   "source": [
    "Our activation function now is simply the argmax of all of the weighted sums. \n",
    "![title](Materials/linear_multiclass.png)"
   ]
  },
  {
   "cell_type": "markdown",
   "metadata": {},
   "source": [
    "## (TODO) Modifying Update Step"
   ]
  },
  {
   "cell_type": "markdown",
   "metadata": {},
   "source": [
    "Because we have multiple weight vectors, our update algorithm needs to be modified slightly. We will still only update the weights when a point is misclassified. However, instead of updating a single weight vector we will update all of them. If we incorrectly classify a point, we will update the correct weight by adding the input scaled by the learning rate, and update the other weights by subtracting that value. "
   ]
  },
  {
   "cell_type": "markdown",
   "metadata": {},
   "source": [
    "### What is our new update scheme really doing?"
   ]
  },
  {
   "cell_type": "markdown",
   "metadata": {},
   "source": [
    "Because our new classification algorithm finds the largest dot product between the input and weights, if we incorrectly classify a point we want to increase this dot product for the correct class and decrease it for the other classes.  "
   ]
  },
  {
   "cell_type": "code",
   "execution_count": 9,
   "metadata": {},
   "outputs": [],
   "source": [
    "class MulticlassPerceptron():\n",
    "    \"\"\"\n",
    "    Perceptron class for Multiclass Linear Classification.\n",
    "    \"\"\"\n",
    "        \n",
    "    def weightedSum(self, inputs, weight):\n",
    "        \"\"\"\n",
    "        Calculates the weighted sum of an input and some weight vector\n",
    "        \"\"\"\n",
    "        return inputs@weight\n",
    "\n",
    "    #TODO\n",
    "    #Start\n",
    "    def predict(self, training_point):\n",
    "        \"\"\"\n",
    "        Calculates predicted class for a input \n",
    "        \"\"\"\n",
    "        \n",
    "        argmax = 0\n",
    "        max_weight = self.weightedSum(training_point, self.weights[0])\n",
    "        for i, weight in enumerate(self.weights):\n",
    "            if max_weight < self.weightedSum(training_point, weight):\n",
    "                argmax = i\n",
    "                max_weight = self.weightedSum(training_point, weight)\n",
    "        return argmax\n",
    "                    \n",
    "    \n",
    "    def train(self, inputs, classes):\n",
    "        \"\"\"\n",
    "        Update self.weights for better classification.\n",
    "        \n",
    "        inputs - n x d matrix\n",
    "        classes - n x 1 column vector\n",
    "        \"\"\"\n",
    "        self.weights = []\n",
    "        num_samples = inputs.shape[0]\n",
    "        dim = inputs.shape[1]\n",
    "        for i in range(3):\n",
    "            self.weights.append(np.zeros((dim,1)))\n",
    "        r = .1\n",
    "        stop = 10000\n",
    "        converged = True\n",
    "        for i in range(stop):\n",
    "            for x in range(num_samples):\n",
    "                pred = self.predict(inputs[x])\n",
    "                if classes[x] != pred:\n",
    "                    converged = False\n",
    "                    modifier = r*inputs[x]\n",
    "                    modifier = modifier.reshape((dim,-1))\n",
    "                    for j, _ in enumerate(self.weights):\n",
    "                        if j != classes[x]:\n",
    "                            self.weights[j] -= modifier\n",
    "                        else:\n",
    "                            self.weights[j] += modifier\n",
    "            if converged:\n",
    "                break\n",
    "            converged = True\n",
    "        print(\"Converged:\", converged)\n",
    "    #End"
   ]
  },
  {
   "cell_type": "markdown",
   "metadata": {},
   "source": [
    "## (TODO) Training Multiclass Perceptron on Data"
   ]
  },
  {
   "cell_type": "markdown",
   "metadata": {},
   "source": [
    "Now we test our newly built Multiclass Perceptron to classify Sally's candies. Using the **candy_data** and **candy_classes** variable that were generated above, train the Multiclass Perceptron and report the correct weight vectors for that set of data. "
   ]
  },
  {
   "cell_type": "code",
   "execution_count": 10,
   "metadata": {},
   "outputs": [
    {
     "name": "stdout",
     "output_type": "stream",
     "text": [
      "Converged: True\n",
<<<<<<< HEAD
      "Trained Weight Vectors: [array([[ 0.9       ],\n",
      "       [-5.5863122 ],\n",
      "       [-2.63263667]]), array([[-1.3       ],\n",
      "       [ 0.02513166],\n",
      "       [-0.52643182]]), array([[-1.3       ],\n",
      "       [ 3.86655035],\n",
      "       [-3.88549996]])]\n"
=======
      "Trained Weight Vectors: [array([[  0.2       ],\n",
      "       [-10.84314145],\n",
      "       [ -6.24023232]]), array([[-1.        ],\n",
      "       [-0.29834602],\n",
      "       [-1.62736654]]), array([[-1.        ],\n",
      "       [ 6.36787808],\n",
      "       [-7.16686742]])]\n"
>>>>>>> bcc3baaea059a7eab6c63cec01ec7990b3d4901c
     ]
    }
   ],
   "source": [
    "#TODO\n",
    "#Start\n",
    "mcp = MulticlassPerceptron()\n",
    "mcp.train(candy_data, candy_classes)\n",
    "print(\"Trained Weight Vectors:\", mcp.weights)\n",
    "#End"
   ]
  },
  {
   "cell_type": "markdown",
   "metadata": {},
   "source": [
    "## (TODO) Testing Performance of Multiclass Perceptron on Unseen Data"
   ]
  },
  {
   "cell_type": "markdown",
   "metadata": {},
   "source": [
    "Next we want to see how well our classifier performs on new candies that Sally puts out. With the new validation dataset generated below, write a function that prints the accuracy of our classifier. "
   ]
  },
  {
   "cell_type": "code",
   "execution_count": 11,
   "metadata": {},
   "outputs": [
    {
     "data": {
<<<<<<< HEAD
      "image/png": "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\n",
=======
      "image/png": "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\n",
>>>>>>> bcc3baaea059a7eab6c63cec01ec7990b3d4901c
      "text/plain": [
       "<Figure size 432x288 with 1 Axes>"
      ]
     },
     "metadata": {
      "needs_background": "light"
     },
     "output_type": "display_data"
    }
   ],
   "source": [
    "# New Data\n",
    "new_candy_data, new_candy_classes = generate_multiclass_data((-6, -6), (4, 19), (11, 4), 5, 20)\n",
    "new_candy_data = addBias(new_candy_data)"
   ]
  },
  {
   "cell_type": "code",
   "execution_count": 12,
   "metadata": {},
   "outputs": [
    {
     "name": "stdout",
     "output_type": "stream",
     "text": [
      "Accuracy: 0.9833333333333333\n"
     ]
    }
   ],
   "source": [
    "#TODO\n",
    "#Start\n",
    "def getMcpAccuracy(mcp, data, classes):\n",
    "    wrong = 0\n",
    "    for i, training_point in enumerate(data):\n",
    "        if (classes[i] != mcp.predict(training_point)):\n",
    "            #incorrectly classified\n",
    "            wrong += 1\n",
    "    print(\"Accuracy:\", 1-wrong/len(data))\n",
    "getMcpAccuracy(mcp, new_candy_data, new_candy_classes)\n",
    "#End"
   ]
  },
  {
   "cell_type": "markdown",
   "metadata": {},
   "source": [
    "### How did your classifier do?"
   ]
  },
  {
   "cell_type": "markdown",
   "metadata": {},
   "source": [
    "The classifier should perform pretty well given that the new data generated has a very similar distribution to the test data."
   ]
  },
  {
   "cell_type": "markdown",
   "metadata": {},
   "source": [
    "## Multiclass Perceptron Conclusions"
   ]
  },
  {
   "cell_type": "markdown",
   "metadata": {},
   "source": [
    "As we can see, with some minor modifications we can make our binary perceptron work for the case of multiple classes. Still, the issues of the original binary perceptron remain: we can only work with linearly separable data, and we cannot say anything about the optimality of our weights. Keep these issues in mind in the coming weeks when we will be studying SVMs, Multilayer Perceptrons, and Neural Networks."
   ]
  },
  {
   "cell_type": "markdown",
   "metadata": {},
   "source": [
    "# Part 3: Speech Recognition With a Single Layer Perceptron\n",
    "\n",
    "We will be investigating a binary classification problem on audio data with two labels. The two labels are 'cat' and 'dog'. We will input raw audio data of humans saying the words 'cat' and 'dog'. We will then process this data and apply a few techniques to illustrate that perceptrons can be used to classify audio data.\n",
    "\n",
    "You will need the dataset of words, here are two ways to obtain it:\n",
    "\n",
    "**Method 1**\n",
    "The dataset that we will be using can be found at this link:\n",
    "https://ai.googleblog.com/2017/08/launching-speech-commands-dataset.html\n",
    "Downloading this dataset might take a few minutes. You will notice a folder with all kinds of folders, each for a different word. We are only interested in cat and dog. \n",
    "\n",
    "**Method 2**\n",
    "We have provided a zip file with all the necessary datasets you need. You can simply unzip it **in the same directory**\n",
    "\n",
    "Inside these respective cat and dog folders are raw .wav files. We will by using scipy to convert these raw wav files into discrete time signals. Let us first import all necessary packages:"
   ]
  },
  {
   "cell_type": "code",
   "execution_count": 13,
   "metadata": {},
   "outputs": [],
   "source": [
    "from sklearn.linear_model import Perceptron\n",
    "from sklearn.decomposition import PCA\n",
    "from scipy.io import wavfile\n",
    "import matplotlib.pyplot as plt\n",
    "import matplotlib\n",
    "import numpy as np\n",
    "import os"
   ]
  },
  {
   "cell_type": "markdown",
   "metadata": {},
   "source": [
    "Now it is very important that you provide the relative file path to the dog and cat files. We will refer to dogs as 1 and cats as 0 in our binary classifcation scheme:"
   ]
  },
  {
   "cell_type": "code",
   "execution_count": 14,
   "metadata": {},
<<<<<<< HEAD
   "outputs": [
    {
     "ename": "FileNotFoundError",
     "evalue": "[WinError 3] The system cannot find the path specified: 'Materials/Word_Dataset/dog/'",
     "output_type": "error",
     "traceback": [
      "\u001b[1;31m---------------------------------------------------------------------------\u001b[0m",
      "\u001b[1;31mFileNotFoundError\u001b[0m                         Traceback (most recent call last)",
      "\u001b[1;32m<ipython-input-14-65815856adbd>\u001b[0m in \u001b[0;36m<module>\u001b[1;34m\u001b[0m\n\u001b[0;32m      3\u001b[0m \u001b[1;31m#Path to the data set containing cat audio samples\u001b[0m\u001b[1;33m\u001b[0m\u001b[1;33m\u001b[0m\u001b[1;33m\u001b[0m\u001b[0m\n\u001b[0;32m      4\u001b[0m \u001b[0mpath_0\u001b[0m  \u001b[1;33m=\u001b[0m \u001b[1;34m\"Materials/Word_Dataset/cat/\"\u001b[0m\u001b[1;33m\u001b[0m\u001b[1;33m\u001b[0m\u001b[0m\n\u001b[1;32m----> 5\u001b[1;33m \u001b[0mfiles_1\u001b[0m \u001b[1;33m=\u001b[0m \u001b[0mos\u001b[0m\u001b[1;33m.\u001b[0m\u001b[0mlistdir\u001b[0m\u001b[1;33m(\u001b[0m\u001b[0mpath_1\u001b[0m\u001b[1;33m)\u001b[0m\u001b[1;33m\u001b[0m\u001b[1;33m\u001b[0m\u001b[0m\n\u001b[0m\u001b[0;32m      6\u001b[0m \u001b[0mfiles_0\u001b[0m \u001b[1;33m=\u001b[0m \u001b[0mos\u001b[0m\u001b[1;33m.\u001b[0m\u001b[0mlistdir\u001b[0m\u001b[1;33m(\u001b[0m\u001b[0mpath_0\u001b[0m\u001b[1;33m)\u001b[0m\u001b[1;33m\u001b[0m\u001b[1;33m\u001b[0m\u001b[0m\n",
      "\u001b[1;31mFileNotFoundError\u001b[0m: [WinError 3] The system cannot find the path specified: 'Materials/Word_Dataset/dog/'"
     ]
    }
   ],
=======
   "outputs": [],
>>>>>>> bcc3baaea059a7eab6c63cec01ec7990b3d4901c
   "source": [
    "#Path to the data set containing dog audio samples\n",
    "path_1  = \"Materials/Word_Dataset/dog/\"\n",
    "#Path to the data set containing cat audio samples\n",
    "path_0  = \"Materials/Word_Dataset/cat/\"\n",
    "files_1 = os.listdir(path_1)\n",
    "files_0 = os.listdir(path_0)"
   ]
  },
  {
   "cell_type": "markdown",
   "metadata": {},
   "source": [
    "Now we will define some usefull functions that will help us process the data. \n",
    "\n",
    "The first function is **numpy_fillna**. This function will simply take in a 2d numpy array where the row vectors are not the same length, and return a 2d numpy array where all the row vectors have the same length. To do this, we simply zero-pad the short row vectors/data vectors to match the length of the longer ones. Worry not, this does not change the relevent audio data at all!\n",
    "\n",
    "The second function is **get_train_test**. This function performs a few important steps, let us break it down:\n",
    "1. It will first use the argument N (total number of data points, 50% dog, 50% cat), and r_train (the ratio of training data to testing data) to calculate the number of training samples that we need. The big idea here is to take our data set and partition it into a training dataset and a testing dataset. The training dataset (can be something like 80% of all the data) will be used to actually train the perceptron. The testing dataset (whatever is leftover, 20%) will be used to acually test our perceptron on 'fresh' data.\n",
    "\n",
    "2. When accumulating the data from the .wav files, this function will trim the audio files nicely. It does this because alot of the times, the audio files have a very unessesary sequence of zeros before the initial useful audio data arrives. It will first find the time point where the audio hits 50% of the maximum value. Then, we instruct the function to call the start of the audio vector 'pre' units before this 50% time point. We can tune pre to untill the audio data appears to be alligned.\n",
    "\n",
    "3. It will also normalize all the audio vectors by removing their mean and making their variance = 1. The reason for this is to treat very loud audio the same as very soft audio. We have no preference over loud or soft audio when classifying. We subtract the mean in order to remove the offset in audio, which we also do not care about.\n",
    "\n",
    "4. Finally, the function will put all these normalized and trimmed audio vectors into a large 2d array. Now there is no gurantee that all the row vectors (data/audio vectors) in this 2d array will have the same length. This is where we use **numpy_fillna** to assert this property. Once this is done, we shuffle up the row vectors in order to make the data randomized with respect to the labels. A minor detail: The function will also return the samplerate of the audio data."
   ]
  },
  {
   "cell_type": "code",
<<<<<<< HEAD
   "execution_count": null,
=======
   "execution_count": 15,
>>>>>>> bcc3baaea059a7eab6c63cec01ec7990b3d4901c
   "metadata": {},
   "outputs": [],
   "source": [
    "def numpy_fillna(data):\n",
    "    # Get lengths of each row of data\n",
    "    lens = np.array([len(i) for i in data])\n",
    "\n",
    "    # Mask of valid places in each row\n",
    "    mask = np.arange(lens.max()) < lens[:,None]\n",
    "\n",
    "    # Setup output array and put elements from data into masked positions\n",
    "    out = np.zeros(mask.shape, dtype=np.float64)#data.dtype)\n",
    "    out[mask] = np.concatenate(data)\n",
    "    return out\n",
    "\n",
    "def get_train_test(N, pre = 50, r_train = 0.5):\n",
    "    \n",
    "    N_train = int(r_train * N)\n",
    "    \n",
    "    X_1 = []\n",
    "    X_0 = []\n",
    "    \n",
    "    for i in range(N//2):\n",
    "        _, data_1 = wavfile.read(os.path.join(path_1, files_1[i]))\n",
    "        samplerate = _\n",
    "        data_1 = (data_1 - np.mean(data_1)) / np.std(data_1)\n",
    "        ind = 0\n",
    "        thresh = 0.5 * np.max(data_1)\n",
    "        while abs(data_1[ind]) < thresh:\n",
    "            ind += 1\n",
    "        ind -= pre\n",
    "        data_1 = data_1[ind:]\n",
    "        X_1.append(data_1)\n",
    "        \n",
    "        _, data_0 = wavfile.read(os.path.join(path_0, files_0[i]))\n",
    "        data_0 = (data_0 - np.mean(data_0)) / np.std(data_0)\n",
    "        ind = 0\n",
    "        thresh = 0.5 * np.max(data_0)\n",
    "        while abs(data_0[ind]) < thresh:\n",
    "            ind += 1\n",
    "        ind -= pre\n",
    "        data_0 = data_0[ind:]\n",
    "        X_0.append(data_0)\n",
    "        \n",
    "    X = numpy_fillna(np.asarray(X_0 + X_1))\n",
    "    y = np.append(np.zeros(N//2), np.ones(N//2)).reshape(-1, 1)\n",
    "    \n",
    "    rng_state = np.random.get_state()\n",
    "    np.random.shuffle(X)\n",
    "    np.random.set_state(rng_state)\n",
    "    np.random.shuffle(y)\n",
    "    \n",
    "    y = y.flatten()\n",
    "    \n",
    "    X_train = X[:N_train]\n",
    "    y_train = y[:N_train]\n",
    "    X_test  = X[N_train:]\n",
    "    y_test  = y[N_train:]\n",
    "    \n",
    "    return X_train, y_train, X_test, y_test, samplerate\n"
   ]
  },
  {
   "cell_type": "markdown",
   "metadata": {},
   "source": [
    "Now that the data is nice and 'clean' let us define what we have mathematically. We will call the ith audio file from each file $\\vec{d_i}, \\vec{c_i} \\in R^d$ for the dog and cat respectively. The dimension $d$ of these vectors is much larger than the number of data points, $n$. $X \\in R^{n x d}, \\vec{y} \\in R^n$, the data matrix with corresponding labels will take the following form:\n",
    "\n",
    "$$X = \\begin{bmatrix}\n",
    "\\vec{d_{21}}^T\\\\\n",
    "\\vec{d_{309}}^T\\\\\n",
    "\\vec{c_{19}}^T\\\\\n",
    "\\vec{d_{10}}^T\\\\\n",
    "\\vec{c_{111}}^T\\\\\n",
    ".\\\\\n",
    ".\\\\\n",
    ".\n",
    "\\end{bmatrix} \\; \\; \\; \\;\\; \\;\\; \\; \\; \\; \\vec{y} = \\begin{bmatrix}\n",
    "1\\\\\n",
    "1\\\\\n",
    "0\\\\\n",
    "1\\\\\n",
    "0\\\\\n",
    ".\\\\\n",
    ".\\\\\n",
    ".\n",
    "\\end{bmatrix}$$\n",
    "\n",
    "If we chose an 80%, 20% split for train and test data, then $X_{train}$ will just be the first 80% rows vectors of $X$, and $X_{test}$ will be the remaining 20%. Similaraly, $\\vec{y_{train}}$ will be the first 80% of the enteries of $\\vec{y}$ and $\\vec{y_{test}}$ will be the remaining 20%. Or mathematically:\n",
    "\n",
    "\n",
    "## $$N_{train} = N * (0.8), N_{test} = N - N_{train}$$\n",
    "\n",
    "\n",
    "## $$X_{train} \\in R^{N_{train} x d}, X_{test} \\in R^{N_{test} x d}, y_{train} \\in R^{N_{train}}, y_{test} \\in R^{N_{test}}$$\n",
    "\n",
    "\n",
    "Now let us fetch the X and y training and testing pairs:\n"
   ]
  },
  {
   "cell_type": "code",
<<<<<<< HEAD
   "execution_count": null,
=======
   "execution_count": 16,
>>>>>>> bcc3baaea059a7eab6c63cec01ec7990b3d4901c
   "metadata": {},
   "outputs": [],
   "source": [
    "X_train, y_train, X_test, y_test, samplerate = get_train_test(N = 1500, pre = 500, r_train = 0.6)"
   ]
  },
  {
   "cell_type": "markdown",
   "metadata": {},
   "source": [
    "Great now we have our testing and training data, we are ready to use the perceptron! To do this, we can use the Sklearn's perceptron package. In the previous part of this jupyter notebook, we learned how a perceptron works and how to build one. For this part, we will use the imported perceptron module for simplicity. \n",
    "\n",
    "First thing we do is create our perceptron. There are many parameters we can pass into the Perceptron constructor, however the default parameters will be fine for this project. Here is a link if you are curious about Sklearn's Perceptron under the hood:\n",
    "https://scikit-learn.org/stable/modules/generated/sklearn.linear_model.Perceptron.html\n",
    "\n",
    "\n",
    "## **(TODO)Using Sklearn's perceptron class, find the weights to fit X_train and y_train. Report the weights as a column vector. Make sure to name the column vector of weights $w$.**"
   ]
  },
  {
   "cell_type": "code",
<<<<<<< HEAD
   "execution_count": null,
=======
   "execution_count": 17,
>>>>>>> bcc3baaea059a7eab6c63cec01ec7990b3d4901c
   "metadata": {},
   "outputs": [],
   "source": [
    "#Start Sklearn Perceptron code\n",
    "#TODO\n",
    "my_perceptron = Perceptron()\n",
    "my_perceptron.fit(X_train, y_train)\n",
    "#Make weights into a column vector\n",
    "w  = my_perceptron.coef_[0].reshape(-1, 1)"
   ]
  },
  {
   "cell_type": "markdown",
   "metadata": {},
   "source": [
    "At this point we need a way to test our classifier. Find a value for training_accuracy below which we define as the percentage of correctly classified training points. Recall that given some sample data, we can classify it by taking the inner product (dot product) of our weights with the input data. That quantity should come out to a scalar. We determine that if the scalar is positive, we assign a classification value of 1 and if it is negative we assign a classification value of 0. Or mathematically:\n",
    "$$y_{predicted} = S(\\vec{x_{sample}}^T \\vec{weights})$$\n",
    "\n",
    "If we have multiple input sample points in a matrix:\n",
    "$$X = \\begin{bmatrix}\n",
    "\\vec{x_{1}}^T\\\\\n",
    "\\vec{x_{2}}^T\\\\\n",
    "\\vec{x_{3}}^T\\\\\n",
    "\\vec{x_{4}}^T\\\\\n",
    "\\vec{x_{5}}^T\\\\\n",
    ".\\\\\n",
    ".\\\\\n",
    ".\n",
    "\\end{bmatrix}, \\; \\; \\; \\; \\vec{y_{predicted}} = S(X \\vec{weights})$$\n",
    "\n",
    "Where $S(x)$ is $1$ if $x$ is positive and $0$ if $x$ is negative. If we have $S(\\vec{x})$ then we apply S to each element in the vector $\\vec{x}$ independently. \n",
    "\n",
    "## **(TODO)Find the percentage of correctly classified data points that the weights calculated earlier will predict on X_train in comparison to y_train. Store the accuracy into a variable named $training\\_accuracy$ (HINT: look into the Perceptron's .score function).**"
   ]
  },
  {
   "cell_type": "code",
<<<<<<< HEAD
   "execution_count": null,
   "metadata": {},
   "outputs": [],
=======
   "execution_count": 18,
   "metadata": {},
   "outputs": [
    {
     "name": "stdout",
     "output_type": "stream",
     "text": [
      "Training Accuracy: 99.22%\n"
     ]
    }
   ],
>>>>>>> bcc3baaea059a7eab6c63cec01ec7990b3d4901c
   "source": [
    "#TODO\n",
    "#Start\n",
    "training_accuracy = my_perceptron.score(X_train, y_train)\n",
    "#End\n",
    "print('Training Accuracy: {0:.2f}%'.format(training_accuracy * 100))"
   ]
  },
  {
   "cell_type": "markdown",
   "metadata": {},
   "source": [
    "Looks good! It seems that our classifier has fit the training data very well. We will now do the same thing to the testing data:\n",
    "\n",
    "## **(TODO)Find the percentage of correctly classified data points that the weights calculated earlier will predict on X_test in comparison to y_test. Store the accuracy into a variable named $testing\\_accuracy$ (HINT: look into the Perceptron's .score function).**"
   ]
  },
  {
   "cell_type": "code",
<<<<<<< HEAD
   "execution_count": null,
   "metadata": {},
   "outputs": [],
=======
   "execution_count": 19,
   "metadata": {},
   "outputs": [
    {
     "name": "stdout",
     "output_type": "stream",
     "text": [
      "Testing Accuracy: 49.67%\n"
     ]
    }
   ],
>>>>>>> bcc3baaea059a7eab6c63cec01ec7990b3d4901c
   "source": [
    "#TODO\n",
    "#Start\n",
    "testing_accuracy = my_perceptron.score(X_test, y_test)\n",
    "#End\n",
    "print('Testing Accuracy: {0:.2f}%'.format(testing_accuracy * 100))"
   ]
  },
  {
   "cell_type": "markdown",
   "metadata": {},
   "source": [
    "Not very good. What happened here? Well it seems that we have over-fit our data. We know this because we fit the training data extremely well, however the testing data gets missclassified almost all the time (recall that the worst binary classifer will have an accuracy of 50%). That is, our perceptron only knows how to fit what it has seen before. This is often the product of having too many parameters. Let us view just how many paramters we have in relation to the amount of training data points:"
   ]
  },
  {
   "cell_type": "code",
<<<<<<< HEAD
   "execution_count": null,
   "metadata": {},
   "outputs": [],
=======
   "execution_count": 20,
   "metadata": {},
   "outputs": [
    {
     "name": "stdout",
     "output_type": "stream",
     "text": [
      "Number of Parameters: 15979\n",
      "Number of Data Points: 900\n"
     ]
    }
   ],
>>>>>>> bcc3baaea059a7eab6c63cec01ec7990b3d4901c
   "source": [
    "num_params = len(w)\n",
    "num_data_points = len(X_train)\n",
    "print('Number of Parameters:', num_params)\n",
    "print('Number of Data Points:', num_data_points)"
   ]
  },
  {
   "cell_type": "markdown",
   "metadata": {},
   "source": [
    "That is a ton of parameters. Perhaps it would be smart to perform PCA on this data in order to reduce its dimensionality (number of paramters) down to 2, just to see how distinguishable our test data is. Recall from 16b that PCA will find the best n principle components of our data matrix X. So, if we choose n = 2, we can find the two principal components that best represent the entire data matrix. This is done using another python library. Let us perform PCA:"
   ]
  },
  {
   "cell_type": "code",
<<<<<<< HEAD
   "execution_count": null,
   "metadata": {},
   "outputs": [],
=======
   "execution_count": 21,
   "metadata": {},
   "outputs": [
    {
     "name": "stdout",
     "output_type": "stream",
     "text": [
      "Number of data points: 900\n",
      "Number of parameters/dimension of data: 2\n"
     ]
    }
   ],
>>>>>>> bcc3baaea059a7eab6c63cec01ec7990b3d4901c
   "source": [
    "pca = PCA(n_components=2)\n",
    "X_train_pca = pca.fit_transform(X_train)\n",
    "num_data, dim = X_train_pca.shape\n",
    "print(\"Number of data points:\", num_data)\n",
    "print(\"Number of parameters/dimension of data:\", dim)"
   ]
  },
  {
   "cell_type": "markdown",
   "metadata": {},
   "source": [
    "As we can see, we have reduced our data matrix to having the same number of data points, however now each data point only has dimension 2. Recall that X_train_pca still has our same number of data points, but each data point effectively only has an 'x' and a 'y' component. What we now want is the ability to plot each of these training data points.\n",
    "\n",
    "Let us build a function that takes in an input matrix and label array X and y respectively. The dimension of X will be N x 2 and y should be a 1 dimensional array of length N. The function will look one row at a time and plot the row of X as an ordered pair on a 2d plot. The color assigned to each label should depend on the value of y for that row. For example, let us say that we wish to plot the 5th row in our data matrix X. We can find the x and y component by looking at the first and second entry of the 5th row of X. Then, we can view the 5th entry in y. If the value is a 1, we can assign the color blue, and 0 gets the color red. Use the plt.scatter function to perform this task:\n",
    "\n",
    "## **(TODO) Impliment the $plot\\_data\\_2d$ function. This should plot label '1' data points as blue and label '0' data points as red** "
   ]
  },
  {
   "cell_type": "code",
<<<<<<< HEAD
   "execution_count": null,
=======
   "execution_count": 22,
>>>>>>> bcc3baaea059a7eab6c63cec01ec7990b3d4901c
   "metadata": {},
   "outputs": [],
   "source": [
    "def plot_data_2d(X_2d, y_labels):\n",
    "    assert len(X_2d) == len(y_labels)\n",
    "    assert X_2d.shape[1] == 2\n",
    "    N = len(X_2d)\n",
    "    #TODO\n",
    "    #Start\n",
    "    for i in range(N):\n",
    "        row = X_2d[i]\n",
    "        if y_labels[i] == 1:\n",
    "            color = 'blue'\n",
    "        else: \n",
    "            color = 'red'\n",
    "        plt.scatter(row[0], row[1], c = color)\n",
    "    #End"
   ]
  },
  {
   "cell_type": "markdown",
   "metadata": {},
   "source": [
    "Now that we have implemented the function, let us plot the 2d projection of our data points:"
   ]
  },
  {
   "cell_type": "code",
<<<<<<< HEAD
   "execution_count": null,
   "metadata": {},
   "outputs": [],
=======
   "execution_count": 23,
   "metadata": {},
   "outputs": [
    {
     "data": {
      "image/png": "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\n",
      "text/plain": [
       "<Figure size 432x288 with 1 Axes>"
      ]
     },
     "metadata": {
      "needs_background": "light"
     },
     "output_type": "display_data"
    }
   ],
>>>>>>> bcc3baaea059a7eab6c63cec01ec7990b3d4901c
   "source": [
    "plot_data_2d(X_train_pca, y_train)"
   ]
  },
  {
   "cell_type": "markdown",
   "metadata": {},
   "source": [
    "This does not look very good. Recall that a perceptron is a linear classifer. However, in 2 dimensions, our data is not linearly seperable. \n",
    "\n",
    "At this point, we may feel like it is time to use other techniques to classify this data. However, 16b to the rescue, we have a very handy tool at our disposal. The discrete fourier transform, or DFT! Why would we even think of using this? Well, first let us ask, what is the best machine for classifying audio? It is us, humans that are the best at this task. This is partially due to the fact that the human ear canal performs a pseudo fourier transform.\n",
    "\n",
    "Taking the DFT of the audio data will provide us with information on how dominant certain frequencies are. This is important for speech recognition because that human audio only exists in a narrow frequency band (< 4kHz). So, if we take the DFT of our data and omit all frequencies above 6000 Hz (to be safe), we will essentially only be capturing the relevant informatin from the audio sample. This is a method of taking an extremeley long audio sample and reducing it down to its more fundemental components, which is what we wanted to do! Recall that our problem was that the vectors were too long/had too many parameters. By taking the DFT and omitting all frequencies above 6000Hz, we will be reducing the number of parameters significantly.\n",
    "\n",
    "In 16B we learned how to compute DFTs using the DFT matrix. In practice, we use the FFT or the Fast Fourier Transform. This will result in the same thing, however the FFT computes the DFT in $O(nlogn)$ time rather than $O(n^2)$ time with the 16B method. For the purposes of this notebook, don't worry about how the FFT works, **just know that the output is the same as if you computed the DFT via the DFT matrix**.\n",
    "\n",
    "So, let us go ahead and compute the 4096 point FFT (remember, the same input/output behavior of the DFT) of each raw audio data vector and construct a new matrix $X_w$:"
   ]
  },
  {
   "cell_type": "code",
<<<<<<< HEAD
   "execution_count": null,
=======
   "execution_count": 24,
>>>>>>> bcc3baaea059a7eab6c63cec01ec7990b3d4901c
   "metadata": {},
   "outputs": [],
   "source": [
    "#think of this as the resolution of our FFT\n",
    "NFFT=4096 \n",
    "\n",
    "#Compute fft for all data points\n",
    "Xw_train = None\n",
    "\n",
    "for arr in X_train:\n",
    "    if Xw_train is None:\n",
    "        Xw_train = np.fft.fft(arr, n = NFFT)\n",
    "    else:\n",
    "        Xw_train = np.vstack((Xw_train, np.fft.fft(arr, n = NFFT)))\n",
    "\n",
    "Xw_test = None\n",
    "\n",
    "for arr in X_test:\n",
    "    if Xw_test is None:\n",
    "        Xw_test = np.fft.fft(arr, n = NFFT)\n",
    "    else:\n",
    "        Xw_test = np.vstack((Xw_test, np.fft.fft(arr, n = NFFT)))\n",
    "\n",
    "#compute the 6khz cutoff index\n",
    "six_cutoff = int(NFFT * 6000 / samplerate)\n",
    "        \n",
    "#We only care about the magnitude of the complex numbers, hence np.abs\n",
    "Xw_train = np.abs(Xw_train[:, :six_cutoff])\n",
    "Xw_test = np.abs(Xw_test[:, :six_cutoff])"
   ]
  },
  {
   "cell_type": "markdown",
   "metadata": {},
   "source": [
    "To get a better idea of what the data vectors now look like, let us plot the first data vector (now in frequency domain).\n",
    "\n",
    "## **(TODO) Choose any data point from X_train. Plot it as a time domain signal**"
   ]
  },
  {
   "cell_type": "code",
<<<<<<< HEAD
   "execution_count": null,
   "metadata": {},
   "outputs": [],
=======
   "execution_count": 25,
   "metadata": {},
   "outputs": [
    {
     "data": {
      "text/plain": [
       "Text(0, 0.5, 'Amplitude')"
      ]
     },
     "execution_count": 25,
     "metadata": {},
     "output_type": "execute_result"
    },
    {
     "data": {
      "image/png": "iVBORw0KGgoAAAANSUhEUgAAAYEAAAEWCAYAAACAOivfAAAABHNCSVQICAgIfAhkiAAAAAlwSFlzAAALEgAACxIB0t1+/AAAADh0RVh0U29mdHdhcmUAbWF0cGxvdGxpYiB2ZXJzaW9uMy4xLjEsIGh0dHA6Ly9tYXRwbG90bGliLm9yZy8QZhcZAAAgAElEQVR4nO3deZgU5bXH8e9hhmHfGZFNViECiuIQ97hGUVCzadSYq8ZcIt5oco3X4JaYxEQTzaKJ0RAT441EJcbluhDjmrgFGQQEZFVQNmEABWRfzv2jaqBn6Jnp6enu6u76fZ6nn6muqq4688LU6Xept8zdERGReGoWdQAiIhIdJQERkRhTEhARiTElARGRGFMSEBGJMSUBEZEYUxKQyJjZdWZ2bx7EcY+Z3ZiD89xkZg9k+Jh9zczNrDSXn5XioSQgWWNmnyS8dpvZloT3X3H3n7j713MUy6VmNs/MNprZKjN72szaAbj7Ze7+o1zEUU98J5jZsihjqM3MOpvZY2a2yczeN7MLoo5JMk/fACRr3L1t9bKZLQG+7u7P5zoOMzse+Akwyt2nm1ln4Mxcx1GA7gK2A92AQ4GnzWymu8+JNizJJNUEJDKJzSMJTROXmNlSM/vIzC4zs5Fm9raZfWxmv6n1+a+Z2dxw32fNrE8dpxoJvOHu0wHcfZ273+/uG8Pj/MnMbk447jVmttLMVpjZ18O4Bibse1dYk9hoZlPMbEDCZ+8I499gZtPM7LgMlNNoM5seHnOpmd2UZLevhfGuNLPvJHy2mZmNN7N3zWytmU0Kk2BD52wDfBG40d0/cfdXgf8DvtrU30fyi5KA5JsjgAOBLwO/Aq4HTgGGAueG3+oxs88B1wFfAMqBV4AH6zjmFOA0M/uBmR1jZi3qOrmZjQKuCs85EDg+yW7nAz8AOgGLgB8nbJtK8K25M/AX4K9m1rLhX7tem4D/ADoCo4Fx4e+f6ESCcjsVGG9mp4TrrwQ+F/4ePYCPCL7hN2QQsMvdFySsm0nw7yBFRElA8s2P3H2ru/+D4OL3oLuvdvflBBf6w8L9vgHc4u5z3X0nQXPPoclqA+7+CkGyGAE8Daw1s1+YWUmS858L3Ofuc9x9M8HFvrZH3f3N8LwTCS761ed6wN3XuvtOd/850AIYnF5R7Dnmy+4+y913u/vbBMmudnL6gbtvcvdZwH0EiQqCcrre3Ze5+zbgJuBLKXQGtwXW11q3HmjXlN9F8o+SgOSbVQnLW5K8r+5n6APcETYTfQysAwzomeyg7j7Z3c8k+IZ+NnAxkKxTugewNOH90iT7fJiwvDkhJszsO2ET1fowrg5A12QxpcrMjjCzl8ysyszWA5clOWZinO+HvwcE5fRYQjnNBXYRtPPX5xOgfa117YGN6fwOkr+UBKRQLQW+4e4dE16t3P31+j4Ufpt+AXgRGJZkl5VAr4T3vVMNKGz//y5BbaKTu3ck+PZsqR6jDn8haI/v7e4dgHuSHDMxzgOAFeHyUuD0WuXUMqxZ1WcBUGpmByasGw6oU7jIKAlIoboHuNbMhgKYWQczOyfZjmZ2tpmdZ2adLPBpguaUfyfZfRJwiZkdZGatge81IqZ2wE6giuAC+j32/TZdLzNrWetl4XHXufvWMPZkQzVvNLPWYXlcAjwcrr8H+HF1M5mZlZvZ2Q3F4e6bgEeBH5pZGzM7hqAG9efG/D6S/5QEpCC5+2PAT4GHzGwDMBs4vY7dPwL+E1gIbAAeAG5z94lJjjsZuBN4iaDT941w07YUwnoWmEzwLfp9YCvJm5Pq0pOgySvxNQC4nOBivJEgKU1K8tl/hvG+ANwe9qkA3EFQi/hH+Pl/E3S+p+JyoBWwmqAfYpyGhxYf00NlROpmZgcRJJgWYUewSFFRTUCkFjP7vJmVmVkngtrGk0oAUqyUBET29Q2Cdv13CUbSjIs2HJHsUXOQiEiMqSYgIhJjBTWBXNeuXb1v375RhyEiUlCmTZu2xt3Lk20rqCTQt29fKisrow5DRKSgmNn7dW1Tc5CISIxFmgTM7L/NbI6ZzTazBzMw26KIiDRCZEnAzHoSTHNb4e7DgBLgvKjiERGJo6ibg0qBVuG0tq3ZO+mViIjkQGRJIJzF8HbgA4KZG9cnzHeyh5mNNbNKM6usqqrKdZgiIkUtyuagTgSzEvYjmPu8jZldWHs/d5/g7hXuXlFennSEk4iIpCnK5qBTgMXuXuXuOwimrT06wnhERGInyiTwAXBkOAe6AScTPPUoryxdt5l/LdjbDPXOig1Me/+jPT8zadduZ9LUpezctZvn31nFh+u3Jt3v8enL2bRtJ7OXr2fG0o8zGoOIxEtkN4u5+xQzewR4i+BBHNOBCVHFU5fjb3uJ3Q5Lbh0NwBl3vlJje/X6THh46lKue2wW67fs4MfPzKVHh5bcfs5wtu3azYmD9wNg+gcf8e2HZ/D5w3ry2PTlGY9BROIl0juG3f37wPejjKEhu3M4v95Hm7cDsC78uWL9Vi64dwqw90K/efsuAFZtSF5LEBFpjIKaNqJYrdqwlXerPok6DBGJoajvExBg9J2vcsHvp0QdhojEkGoCKVr+8RY2bNmRlWOv+SSVx9eKiGSeagIpOubWFzn9jlf2WT91yTomz1qZ9fPX9/Cf9Zt38Lm7XuODtZuzHoeIFBclgSY65543GDfxrayfZ9lHW+rc9szslcxY+jG/fXlR1uMQkeKiJJCH7n99yT7rnpm1ksE3TGbbzl25D0hEipb6BPJQ9TDQRLdMngdA1Ub1H4hI5qgmUGAMizoEESkiSgIiIjGmJFBE6hlAJCKSlJJAEVADkYikS0mgCKgCICLpUhIoMF7PJd9UJRCRRlISKDDV7f664ItIJigJFCh1AotIJuhmsQgsXrOJDq2a868FVXyybWejPltfDUCJQUQaS0kgAife/jLtWpaycWvjEgAkv1lMLUMikq5Im4PMrKOZPWJm88xsrpkdFWU8TfH32R82av90EoCISKZF3SdwB/B3d/8UMJw8fNB8qi57YFpOzlPf6CARkcaKrDnIzNoDnwEuBnD37cD2qOIpFMna/ZUWRCRdUdYE+gNVwH1mNt3M7jWzNhHGUxDeXLwOSN5BrGGjItJYUSaBUmAEcLe7HwZsAsbX3snMxppZpZlVVlVV5TrGvPPo9OV1btPoIBFprCiTwDJgmbtXP2H9EYKkUIO7T3D3CnevKC8vz2mA+Szxgq8KgIikK7Ik4O4fAkvNbHC46mTgnajiyYSB1z1T7/Z3Vmxg6w49GUxE8kfU9wlcAUw0szLgPeCSiONpkp27626PWb1xK2fc+QpfHNErhxGJiNQv0iTg7jOAiihjyJXq+wKmf/BRxJGIiOwV9X0CRW/7zt3c8fxCNQOJSF6Kujmo6D345gf88vkFLFi9MaPH1XBQEckE1QSyrLoGsE01ARHJQ0oCWfLS/NX0Hf8067fsiDoUEZE6KQlkyW9fWgTAglWpNwPd9uz8lPfVjWEikgnqE6jD0nWbebyeu3OjtqmRzyEQEUlGSaAOl/xpKotWf9Loz700fzUvzl295/3WHbszGdYeM5etz8pxRSRelATqsGV7eh25l9w3FYCRfTsB8OqiNRmLqSGaZlpEGkt9AnUopCGYhRSriOQXJYE6ZOvCmo3v6uokFpF0KQnUIdmzfBtj3wtz9r6uV9+L0NSYRSR+lATqUEhNLDc9WdCTr4pIhJQE6tAs41kgqBoUUG4RkRhQEght3bGLvuOf5pFpy4DCvFhrdJCINJaSQGjNJ9sA+OVzC9i6YxcfbtjapOMVUnOSiMSXkkAS3/zLW2xO8z6Bhui7uojkEyWBWjZs3cHzCXf8piuXo4NERNKlJFBL9RPAmqryfT1BTETyX+RJwMxKzGy6mT0VdSzZlf3RQbpPQEQaK/IkAHwLmBt1ELny3ppNWTu2RgeJSGNFmgTMrBcwGrg3yjiKxaTKZVGHICIFJuqawK+Aa4A651s2s7FmVmlmlVVVVbmLLONy01Tz4rxVOTmPiBSHyJKAmY0BVrv7tPr2c/cJ7l7h7hXl5eVZieXD9VtZ+8n2rBy7Wq7uG3hy5srcnEhEikKUzxM4BjjLzM4AWgLtzewBd78w14EcecsLWT9Hrmb6dE0pKiKNEFlNwN2vdfde7t4XOA94MYoEkDu5uTibblUWkUaIuk9AREQilBePl3T3l4GXIw4jy/QNXUTyj2oCOaJWGhHJR0oCIiIxpiSQI8+9k5vx+6pwiEhjKAmIiMSYkoCISIwpCYiIxJiSQLFRp4CINEJe3CcQlT+9tpif/n1+1GGIiEQmlklg07adXDVpBs/O0YybIhJvsWwOenzGciUAERFimgSKeaJNPWJSRBojlkmgmG3YuiPqEESkgMQyCRRxRSBndyaLSHGIZRIQEZGAkkAR+vULC1m9cWvUYYhIAVASKEI/f24B335oRtRhiEgBiGcSKObhQaFN23dFHYKIFIBYJoHiTwGwZfvOqEMQkQIQWRIws95m9pKZzTWzOWb2rahiKUZL1m6OOgQRKQBR1gR2At9x94OAI4H/MrMhEcZTVHbvTl7fufeV95i59OMcRyMi+SqyJODuK939rXB5IzAX6BlVPMVm527n483buXziNNZvDm4ge3/tJm5+ei5n3/VaxNGJSL7Iiz4BM+sLHAZMSbJtrJlVmlllVVVVRs4Xg35hAP7w6mKemfUhf3p9CQB3vLAw2oBEJO80mATMrLWZ3Whmvw/fH2hmYzIVgJm1Bf4GfNvdN9Te7u4T3L3C3SvKy8szddpYqD2LkOYVEpHaUqkJ3AdsA44K3y8Dbs7Eyc2sOUECmOjuj2bimKnwuFQFLLjob9+l4aIiklwqSWCAu/8M2AHg7lvIwPOrzMyAPwBz3f0XTT2e7Kv6H+mul96NNA4RyV+pJIHtZtaKcHi9mQ0gqBk01THAV4GTzGxG+DojA8eVOphag0SkllSeLPZ94O9AbzObSHDxvripJ3b3V4noibgxaQzSRV9EGtRgEnD358zsLYKx/AZ8y93XZD2yLLn/9SU8Pzce0y2rI1hEGlJnEjCzEbVWrQx/HmBmB1SP8S803/+/OVGHkDOL13yyZ9nda6SEhas2cmC3drkPSkTySn01gZ+HP1sCFcBMgprAIQTj+Y/NbmjSVI/PWLFnufaAqPvfWMLNnzs4twGJSN6ps2PY3U909xOB94ER4Vj9wwlu6lqUqwAlMx6c+kGNPoJN2zRsVERSGx30KXefVf3G3WcDh2YvJMmGJ2asqNFH8Nj05RFGIyL5IpXRQXPN7F7gAYKBNRcSzPMjhSQuQ6JEpFFSSQKXAOOA6qme/wXcnbWIJCs2btPzBURkX6kMEd0K/DJ8SYGau3IDB+2v0UAiUlODScDMFpOkMcHd+2clIsmaR2v1A7g7pjvKRGItleagioTllsA5QOfshCO59MfXlnDpsf2iDkNEItTg6CB3X5vwWu7uvwJOykFskmU/euod/vzGkjqfQiYixS+V5qDEO4ebEdQM1LhcJG58Yg6d27Rg9CHdow5FRCKQSnPQzxOWdwKLgXOzE45EYZNGDonEVipJ4FJ3fy9xhZkVXEPyrt3O4jWbog4jL7luIhCJrVTuGH4kxXV57c4XFnLKL/4ZdRh56YN1m1m/eQcbtu6IOhQRybH6ZhH9FDAU6GBmX0jY1J5glFBBqXx/XdQh5K27Xnp3z9PH3rzuZPZrH/zzbti6g927nY6ty6IMT0SyqL7moMHAGKAjcGbC+o3Af2YzqGyIy2OFm+rTP3mBu78yghsen83aTdsBWHLr6IijSs+W7bu4atIMvnPqIAbup7EMIsnUmQTc/QngCTM7yt3fyMbJzWwUcAdQAtzr7rdm4zwAqzZszdahi864iTUfFfHy/NVcfN9UABb9+HRKS/a2IlYPL23WzNi6YxfNS5pR0ix3N6Dt3u2s37KD9q2a89qiNfTq1IrZKzbwi3/MZ8nazQBMnv0hrctKOLeiNzeOGcL/vrGE4weVs1/7lpQ2M1o2L8lZvCL5xryOr8hmdo27/8zMfk3yO4avbNKJzUqABcBngWXAVOB8d3+nrs9UVFR4ZWVlo8917yvvcfPTmvMuE7p3aMmZw3sw4V81xgpw3sjePDR1KWccvD+H9OrIrZPn8fr4k2jVvISWzUtoVZb5C+0j05Zx9V9nNvk4V540kDeXrOMHZw2jXctSenRslYHoRPKHmU1z94qk2+pJAme6+5NmdlGy7e5+fxODOgq4yd1PC99fGx73lro+k24S6Dv+6XTDlAgd0a8zH2/eQf/yNkye/SEAYw7pzlNvr2zgk9E5flA5u905qHt7hvZoT5uyVAbg5bdimFmkGH6H4b060qVti7Q+W18SqK856MnwZ5Mu9vXoCSxNeL8MOKL2TmY2FhgLcMABB2QpFMlHUxYHnfnzV23csy6fEwDAPxdUAfDKwoJ9DLfkqT9dMpITBu+X8ePWNzroSeqZhd7dz2riuZPl5mTNThOACRDUBJp4TsljZaXN2L5zd411d55/GFdPmsmhvTty6XH9+MuUD+jcpizvHopT0sw4ekAXhvRoz9tL13Pm8B4M7dGeZgX+FbQY7iEplkEhfbu2ycpx66ur3p6VM+61DOid8L4XsKKOfZvk3IpeTKpclo1Dx864Ewbwxrtr2bXbGXfCABas2sjyj7YweP92vP7uWs7/9AGUlhgrP95Kny6tOXpAlybPVHrW8B57lk8buj8Av/xy8HC7X7+wkJ8/tyCt43Zt24I1n2zj6AFduOO8w/j77JVccESfnHZsi0Stzj6BGjuZlQGfIvimPt/dtzf5xGalBB3DJwPLCTqGL3D3OXV9Jt0+AXen37XPpBtq7D1z5XFc++jb7NjlPH3lsXk7/fT4v71Nt/YtufS4fvz5jfe57dn5++zz/FWfoX/XtpiRt7+HSKal1SeQ8OHRwD3AuwRNOP3M7BvuPrkpQbn7TjP7JvAswRDRP9aXAJrCzPjh2UP53hNZOXzR+d1XD+fJmSv2tL8P6dGeJ755bMRRNezWLx6yZ/m/ThzI6++u4bVFa1l8yxl8uGErrZqX6MY3kVoarAmY2TxgjLsvCt8PAJ5290/lIL4a0q0JVDv7N68yc9n6DEZUPM7/9AE89fYKKvp04r5LPg3A0nWb6di6Oe1aNo84uvRs27mLLdt36cIvsdekmgCwujoBhN4DVmckshz77YWHc8ytL0YdRt4Z0r09t3zhYG75wsE11vfu3DqiiDKjRWkJLUp1I5hIfVJJAnPM7BlgEkGfwDnA1Or5hNz90SzGl1Fd2ugbYTJlpanMIygixSiVJNASWAUcH76vIni85JkESaFgkoD6AZMb1rN91CGISEQaTALufkkuApHo3DhmSNQhiEhEUhkd1A+4AuibuH8GbhbLuebN1OyRqGvbFlTecErUYYhIhFJpDnoc+APwJLC7gX3zWrNmxpUnDeTOFxc1vHMMPPif+8zSISIxk0oS2Orud2Y9Esm5A7tpjn2RuEslCdxhZt8H/gFsq17p7m/V/RERESkEqSSBg4GvAiextznIw/cFp2cnzRUvIlItlSTweaB/JuYLygfnVvTmu3+bFXUYIiJ5IZXhMjMJnjNcFMyM/uXZmZJVRKTQpFIT6AbMM7Op7O0TcHc/O3thZVmRzC8uItJUqdQEvk/QJPQT4BfAm8DAbAaVbdl6OEO++8Zn+u9ZPn5QeYSRiEi+aDAJuPs/gfXAaOBPBPP/35PdsLLr9nOGRx1CJI4Z2HXP8jWjBkcYiYjki/oeLzkIOA84H1gLPEww9fSJOYota9q00MySenqWiED9NYF5BN/6z3T3Y93918Cu3IQlmXDMwC57ln/0uWE1tlnSRzyLSNzUlwS+CHwIvGRmvzezk0n+cHjJU50SHqbSq1OrGv3hPTq2zH1AIpJ36kwC7v6Yu3+Z4NnCLwP/DXQzs7vN7NQcxZcVZSXxmEgu8aJfO3sX6tPCRCSzUukY3uTuE919DNALmAGMb8pJzew2M5tnZm+b2WNmltP7EPSAcRGRQKO+Erv7Onf/nbs3dcqI54Bh7n4IsAC4tonHa7SrPjso16eMXEPPkxaR+ImkXcTd/+HuO8O3/yaoYeTUlScfmOtTRurYhOGhIiLV8qFx/GvA5Lo2mtlYM6s0s8qqqqochlX4hnTf+9jI0oR+kJF9O0URjojkoawlATN73sxmJ3mdnbDP9cBOYGJdx3H3Ce5e4e4V5eW6yzVVw3t14PITBtRYV90Y1KosldlCRCQOsnY1cPd6n1toZhcBY4CTPaLG6r98/QguuHdKFKfOuuMHle/TAd6zYzCN9sg+qgmISCCSr4RmNgr4LnC8u2+OIgaAo2PQTn5wzw4s/3gLAIO6teOlq0+gT+fWEUclIvkiqnaB3wAtgOfCb6v/dvfLIoqlqD15xbE13veL6eR5IpJcJEnA3Qt6FtKCoHshRCQF+TA6KFL7t9f0CSISX7FPAv++7uSoQ8iKEQcUzcPgRCSLNFawCE2/8bN0alPW8I4iEnuxrwkUIyUAEUmVkoCISIwpCYiIxJiSgIhIjCkJiIjEmJKAiEiMKQmIiMSYkoCISIwpCRSZshL9k4pI6nTFAL5VRI+a/PUFh0UdgogUECUBoF3LaGbPOGFw5p+U1rFV84wfU0SKl5JAhNq0yHzyqf00MRGR+igJiIjEmJJAHjq4Z4eoQxCRmFASyBPjThiw5wE33Tuk/6Abd89USCISA5EmATO72szczCJ94vvhfTpFc+KE6/V3R32Km84aGk0cIhJbkSUBM+sNfBb4IKoYqh12QCfm/WgUbbPQUZuKrx7ZJ1xq+rd4dQyLSGNEWRP4JXANmbjyZUDL5iV7lo87MLsVk46tm9O3S2v6l7cB9h2i2pTr+AGdWzclNBGJmUiSgJmdBSx395kp7DvWzCrNrLKqqioH0WXfUf278PL/nFgj8WTK/k3oTxCR+Mla+4eZPQ/sn2TT9cB1wKmpHMfdJwATACoqKnJSaxg1bH9eWbgma8dX362I5Ius1QTc/RR3H1b7BbwH9ANmmtkSoBfwlpklSxiROHN4j5ycRyN5RCRqOe8JdfdZwH7V78NEUOHu2fvqXYTatyxlw9adUYchIgVO9wmIiMRYNGMiE7h736hjqJarwZV9utYcwZPOaCANBRWRTFBNIMFPvnAwPTu2ok1ZdnPj1acOTro+lS6CcScMyHA0IhJnSgIJzhzeg9fGn0RJs8x8y24X3nx2zMAuNdY3b+DBL1ZPnaRbuxZND0xEJBR5c1C+uv2c4ezfviUX/mFKk4/VqnlQzAPK2zSYAEREcklXpDp86fBeHJvhO4cvP2Egf//2Z/a8P+Pg7gB87tCeDX52zCHdMxqLiAgoCeRU7Sb//uVtWXLraA7s1g6AQ3p3BIIEVFv1s4PVISwimaQkkE2NvF737NiKJbeO5pQh3fbZdsOYIfzHUX04/eC999QduF9bAM6t2DdpiIikQkkgB4Z0D77p9+rUKu1jdG5Txg/PHkbzZtU1guw8o1hE4kUdww34dN/OvLlkXZOO8bVj+3Hq0P0ZluEnhmnWCRFpKtUEGuH4Qel98zazjCcAEZFMUBLIhQx+Y29VFkw//aURe/sBVCMQkXQpCTTAE67gjb3WZmMcT8vmJcz70SiuO+OgLBxdROJGSSCLTj4oGOVTVprZYm7ZvIRmCXc1a9SoiKRLHcNZ9NMvHsL/nDZ4TxOOiEi+UU2gEVL5wt25Tdme5bLSZvTomP6w0FRV9wkMDO8bEBFJlZJAA04bmjcPPBMRyTglgQZcemy/Pcu5bnvv17VNSvupT0BE0qUk0IDGztUzalhmag5vXn8yT11xLOcc3ouubcvq3VdDREUkXZF1DJvZFcA3gZ3A0+5+TVSxZMq0G06hQ6vmLPhwI5Xvf9SkY+3XriUAt50zPBOhiYgkFUlNwMxOBM4GDnH3ocDtUcSRqmk3nALUbBpKpkvbFpSWNOOhsUcy/+ZRWY/ryyN7U9rMakwqJyLSGFHVBMYBt7r7NgB3Xx1RHCnp0rYFS24dnfL+pSXNclKwB3Zrx6KfnMHCVRtzcDYRKUZR9QkMAo4zsylm9k8zG1nXjmY21swqzayyqqoqhyGmpkOr5lGHkMlZKUQkZrL2hdXMngeStVNcH563E3AkMBKYZGb93fft4nT3CcAEgIqKiry73uXTyJw8CkVECkTWkoC7n1LXNjMbBzwaXvTfNLPdQFcg/77qN0Ajc0SkkEXVHPQ4cBKAmQ0CyoA1EcXSKHeefxgj+3baZ33/8tTG9GdDs7A6oukpRKSxokoCfwT6m9ls4CHgomRNQfnorOE9+OtlR0cdRg0Dyttw9amDuOfCw6MORUQKTCSjg9x9O3BhFOfOtHzoEzAzvnnSgVGHISIFSHcMp2mfUUEFUY8REalJSSBNd39lRNQhiIg0mZJAmvZ5UEweNAuJiDSWkkCmqDlIRAqQkoCISIwpCYiIxJiSgIhIjCkJpKlj62CI6KBu7SKOREQkfUoCaRq4XzseGnskN505NOpQRETSpiTQBEf277Jnvp4WzTVvj4gUnsgeL1ks+nZpzVWfHcQXRvSMOhQRkUZTEmgiM+PKkzVvj4gUJjUHiYjEmJKAiEiMKQmIiMSYkoCISIwpCYiIxJiSgIhIjCkJiIjEmJKAiEiMmXvhPA3FzKqA99P8eFdgTQbDyRTF1Tj5Ghfkb2yKq3GKMa4+7l6ebENBJYGmMLNKd6+IOo7aFFfj5GtckL+xKa7GiVtcag4SEYkxJQERkRiLUxKYEHUAdVBcjZOvcUH+xqa4GidWccWmT0BERPYVp5qAiIjUoiQgIhJjsUgCZjbKzOab2SIzG5/lc/U2s5fMbK6ZzTGzb4XrO5vZc2a2MPzZKVxvZnZnGNvbZjYi4VgXhfsvNLOLMhRfiZlNN7Onwvf9zGxKeI6HzawsXN8ifL8o3N434RjXhuvnm9lpGYqro5k9YmbzwrI7Kh/KzMz+O/x3nG1mD5pZyyjKzMz+aGarzWx2wrqMlY+ZHW5ms8LP3Glm1oS4bgv/Hd82s8fMrGND5VDX32hdZZ1OXAnbrjYzN7Ou+VBe4forwt9/jpn9LKfl5e5F/a/n1PQAAAaCSURBVAJKgHeB/kAZMBMYksXzdQdGhMvtgAXAEOBnwPhw/Xjgp+HyGcBkwIAjgSnh+s7Ae+HPTuFypwzEdxXwF+Cp8P0k4Lxw+R5gXLh8OXBPuHwe8HC4PCQswxZAv7BsSzIQ1/3A18PlMqBj1GUG9AQWA60SyuriKMoM+AwwApidsC5j5QO8CRwVfmYycHoT4joVKA2Xf5oQV9JyoJ6/0brKOp24wvW9gWcJbjrtmifldSLwPNAifL9fLssrKxfCfHqF/1DPJry/Frg2h+d/AvgsMB/oHq7rDswPl38HnJ+w//xw+/nA7xLW19gvzVh6AS8AJwFPhf+B1yT8we4pq/AP5ahwuTTcz2qXX+J+TYirPcHF1mqtj7TMCJLA0vAiUBqW2WlRlRnQt9bFIyPlE26bl7C+xn6NjavWts8DE8PlpOVAHX+j9f3/TDcu4BFgOLCEvUkg0vIiuHCfkmS/nJRXHJqDqv+Qqy0L12Vd2BxwGDAF6ObuKwHCn/s1EF824v4VcA2wO3zfBfjY3XcmOcee84fb14f7ZyOu/kAVcJ8FTVX3mlkbIi4zd18O3A58AKwkKINp5EeZQebKp2e4nOn4AL5G8E05nbjq+//ZaGZ2FrDc3WfW2hR1eQ0Cjgubcf5pZiPTjCut8opDEkjWVpf1cbFm1hb4G/Btd99Q365J1nk969ONZwyw2t2npXDunMUVKiWoIt/t7ocBmwiaN+qSqzLrBJxNUBXvAbQBTq/nHLkss/o0No6sxGdm1wM7gYlRx2VmrYHrge8l2xxVXKFSguamI4H/ASaFfQw5iSsOSWAZQTtgtV7Aimye0MyaEySAie7+aLh6lZl1D7d3B1Y3EF+m4z4GOMvMlgAPETQJ/QroaGalSc6x5/zh9g7AuizEVX2uZe4+JXz/CEFSiLrMTgEWu3uVu+8AHgWOJj/KDDJXPsvC5YzFF3aijgG+4mHbRBpxraHusm6sAQTJfGb4N9ALeMvM9k8jrkyX1zLgUQ+8SVBT75pGXOmVV2PbJQvtRZBl3yP4D1DdiTI0i+cz4H+BX9Vafxs1O/F+Fi6Ppman1Jvh+s4E7eSdwtdioHOGYjyBvR3Df6VmR9Ll4fJ/UbOTc1K4PJSanVXvkZmO4VeAweHyTWF5RVpmwBHAHKB1eK77gSuiKjP2bUvOWPkAU8N9qzs6z2hCXKOAd4DyWvslLQfq+Rutq6zTiavWtiXs7ROIurwuA34YLg8iaOqxXJVXVi6E+fYi6P1fQNCjfn2Wz3UsQRXsbWBG+DqDoL3uBWBh+LP6P5MBd4WxzQIqEo71NWBR+LokgzGewN4k0J9gpMOi8D9Q9QiFluH7ReH2/gmfvz6Mdz4pjopIIaZDgcqw3B4P/+giLzPgB8A8YDbw5/APMudlBjxI0C+xg+Cb4KWZLB+gIvwd3wV+Q61O+kbGtYjgQlb9//+ehsqBOv5G6yrrdOKqtX0Je5NA1OVVBjwQHu8t4KRclpemjRARibE49AmIiEgdlARERGJMSUBEJMaUBEREYkxJQEQkxpQEJPbM7Ppw9sa3zWyGmR2RxXO9bGZ59xBzia/ShncRKV5mdhTBna0j3H1bOL1wStMVixQD1QQk7roDa9x9G4C7r3H3FWb2PTObasFzBCZUzxcffpP/pZn9y4LnHow0s0fD+dtvDvfpG86nf39Yu3gknLumBjM71czeMLO3zOyv4XxTIjmlJCBx9w+gt5ktMLPfmtnx4frfuPtIdx8GtCKoLVTb7u6fIbgt/wmC6SKGARebWZdwn8HABHc/BNhA8KyBPcIaxw0EUwiPILhb+qrs/IoidVMSkFhz90+Aw4GxBNNZP2xmFwMnhlP7ziKYbG9owsf+L/w5C5jj7ivDmsR77J3Ya6m7vxYuP0AwnUiiIwkeGvKamc0ALgL6ZPSXE0mB+gQk9tx9F/Ay8HJ40f8GcAjBHDJLzewmgnmBqm0Lf+5OWK5+X/03VXs+ltrvDXjO3c9v8i8g0gSqCUismdlgMzswYdWhBJN1AawJ2+m/lMahDwg7nSF48tSrtbb/GzjGzAaGcbQ2s0FpnEekSVQTkLhrC/zagoeh7ySYfXEs8DFBc88SgmmDG2sucJGZ/Y5gls+7Eze6e1XY7PSgmbUIV99AMDOkSM5oFlGRDAsfK/pU2KksktfUHCQiEmOqCYiIxJhqAiIiMaYkICISY0oCIiIxpiQgIhJjSgIiIjH2/ywXUyOdt7l7AAAAAElFTkSuQmCC\n",
      "text/plain": [
       "<Figure size 432x288 with 1 Axes>"
      ]
     },
     "metadata": {
      "needs_background": "light"
     },
     "output_type": "display_data"
    }
   ],
>>>>>>> bcc3baaea059a7eab6c63cec01ec7990b3d4901c
   "source": [
    "#TODO\n",
    "#Start\n",
    "plt.plot(X_train[4])\n",
    "plt.title('Time Signal Label 0')\n",
    "plt.xlabel('Sample')\n",
    "plt.ylabel('Amplitude')\n",
    "#end"
   ]
  },
  {
   "cell_type": "markdown",
   "metadata": {},
   "source": [
    "## **(TODO) Choose the same row from before, but now grab the corresponding row of Xw_train. Plot it as a frequency domain signal**"
   ]
  },
  {
   "cell_type": "code",
<<<<<<< HEAD
   "execution_count": null,
   "metadata": {},
   "outputs": [],
=======
   "execution_count": 26,
   "metadata": {},
   "outputs": [
    {
     "data": {
      "text/plain": [
       "Text(0, 0.5, '|DFT Values|')"
      ]
     },
     "execution_count": 26,
     "metadata": {},
     "output_type": "execute_result"
    },
    {
     "data": {
      "image/png": "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\n",
      "text/plain": [
       "<Figure size 432x288 with 1 Axes>"
      ]
     },
     "metadata": {
      "needs_background": "light"
     },
     "output_type": "display_data"
    }
   ],
>>>>>>> bcc3baaea059a7eab6c63cec01ec7990b3d4901c
   "source": [
    "#TODO\n",
    "#Start\n",
    "fVals=np.arange(start = 0,stop = six_cutoff)*samplerate/NFFT\n",
    "plt.plot(fVals,Xw_train[4])\n",
    "plt.title('One Sided FFT')\n",
    "plt.xlabel('Frequency (Hz)')\n",
    "plt.ylabel('|DFT Values|')\n",
    "#End"
   ]
  },
  {
   "cell_type": "markdown",
   "metadata": {},
   "source": [
    "## **(TODO) Comment on the differences between the frequency domain signal and the time domain signals:**"
   ]
  },
  {
   "cell_type": "markdown",
   "metadata": {},
   "source": [
    "The frequency domain signal is able to capture seemingly relevant data with only 4000 samples while the time domain signal seems to have important values throughout 8000 samples."
   ]
  },
  {
   "cell_type": "markdown",
   "metadata": {},
   "source": [
    "Great, now we have successfully converted all of our data into frequency domain! Let us do the same thing that we did before: Project the data back to 2 dimensions using PCA in order to plot the 'dog's in red and the 'cat's in blue. We will use our previously implimented funtion to plot the data:"
   ]
  },
  {
   "cell_type": "code",
<<<<<<< HEAD
   "execution_count": null,
   "metadata": {},
   "outputs": [],
=======
   "execution_count": 27,
   "metadata": {},
   "outputs": [
    {
     "data": {
      "image/png": "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\n",
      "text/plain": [
       "<Figure size 432x288 with 1 Axes>"
      ]
     },
     "metadata": {
      "needs_background": "light"
     },
     "output_type": "display_data"
    }
   ],
>>>>>>> bcc3baaea059a7eab6c63cec01ec7990b3d4901c
   "source": [
    "pca = PCA(n_components=2)\n",
    "Xw_train_pca = pca.fit_transform(Xw_train)\n",
    "plot_data_2d(Xw_train_pca, y_train)"
   ]
  },
  {
   "cell_type": "markdown",
   "metadata": {},
   "source": [
    "At last, we have linearly separable data! Now, we will train a perceptron on the FFT data rather than the raw data.\n",
    "\n",
    "## **(TODO) Use the same process from the previous parts to train a perceptron classifier but this time use the Xw_train data for training. Make sure to store the final weights into a variable called $w\\_fft$**"
   ]
  },
  {
   "cell_type": "markdown",
   "metadata": {},
   "source": [
    "#TODO\n",
    "#Start\n",
    "my_perceptron_freq = Perceptron(tol=1e-3, random_state=0)\n",
    "my_perceptron_freq.fit(Xw_train, y_train)\n",
    "w_fft = my_perceptron_freq.coef_[0].reshape(-1, 1)\n",
    "#End\n",
    "print('Number of parameters/dimension for FFT:', len(w_fft))\n",
    "print('Number of parameters/dimension for Raw:', len(w))"
   ]
  },
  {
   "cell_type": "markdown",
   "metadata": {},
   "source": [
    "We were able to reduce the dimensionality significantly and achieve linear separable data! Let us see how it performs:\n",
    "\n",
    "## **(TODO) Use the same process from the previous parts to report the testing accuracy and training accuracy for the FFT method. Remember to use Xw_train and Xw_test. Store the training and testing accuracies into variables named $training\\_accuracy$ and $testing\\_accuracy$ respectively.** "
   ]
  },
  {
   "cell_type": "code",
<<<<<<< HEAD
   "execution_count": null,
   "metadata": {},
   "outputs": [],
=======
   "execution_count": 28,
   "metadata": {},
   "outputs": [
    {
     "ename": "NameError",
     "evalue": "name 'my_perceptron_freq' is not defined",
     "output_type": "error",
     "traceback": [
      "\u001b[1;31m---------------------------------------------------------------------------\u001b[0m",
      "\u001b[1;31mNameError\u001b[0m                                 Traceback (most recent call last)",
      "\u001b[1;32m<ipython-input-28-d0a328f352f7>\u001b[0m in \u001b[0;36m<module>\u001b[1;34m\u001b[0m\n\u001b[0;32m      1\u001b[0m \u001b[1;31m#TODO\u001b[0m\u001b[1;33m\u001b[0m\u001b[1;33m\u001b[0m\u001b[1;33m\u001b[0m\u001b[0m\n\u001b[0;32m      2\u001b[0m \u001b[1;31m#Start\u001b[0m\u001b[1;33m\u001b[0m\u001b[1;33m\u001b[0m\u001b[1;33m\u001b[0m\u001b[0m\n\u001b[1;32m----> 3\u001b[1;33m \u001b[0mtraining_accuracy\u001b[0m \u001b[1;33m=\u001b[0m \u001b[0mmy_perceptron_freq\u001b[0m\u001b[1;33m.\u001b[0m\u001b[0mscore\u001b[0m\u001b[1;33m(\u001b[0m\u001b[0mXw_train\u001b[0m\u001b[1;33m,\u001b[0m \u001b[0my_train\u001b[0m\u001b[1;33m)\u001b[0m\u001b[1;33m\u001b[0m\u001b[1;33m\u001b[0m\u001b[0m\n\u001b[0m\u001b[0;32m      4\u001b[0m \u001b[0mtesting_accuracy\u001b[0m \u001b[1;33m=\u001b[0m \u001b[0mmy_perceptron_freq\u001b[0m\u001b[1;33m.\u001b[0m\u001b[0mscore\u001b[0m\u001b[1;33m(\u001b[0m\u001b[0mXw_test\u001b[0m\u001b[1;33m,\u001b[0m \u001b[0my_test\u001b[0m\u001b[1;33m)\u001b[0m\u001b[1;33m\u001b[0m\u001b[1;33m\u001b[0m\u001b[0m\n\u001b[0;32m      5\u001b[0m \u001b[1;31m#End\u001b[0m\u001b[1;33m\u001b[0m\u001b[1;33m\u001b[0m\u001b[1;33m\u001b[0m\u001b[0m\n",
      "\u001b[1;31mNameError\u001b[0m: name 'my_perceptron_freq' is not defined"
     ]
    }
   ],
>>>>>>> bcc3baaea059a7eab6c63cec01ec7990b3d4901c
   "source": [
    "#TODO\n",
    "#Start\n",
    "training_accuracy = my_perceptron_freq.score(Xw_train, y_train)\n",
    "testing_accuracy = my_perceptron_freq.score(Xw_test, y_test)\n",
    "#End\n",
    "print('Training Accuracy FFT Method: {0:.2f}%'.format(training_accuracy * 100))\n",
    "print('Testing Accuracy FFT Method: {0:.2f}%'.format(testing_accuracy * 100))"
   ]
  },
  {
   "cell_type": "markdown",
   "metadata": {},
   "source": [
    "Congratulations! You have just classified a dog from a cat! We left the perceptron code to you and we handeled all of the data triming and pre processing."
   ]
  },
  {
   "cell_type": "markdown",
   "metadata": {},
   "source": [
    "## **(TODO) Comment below what you learned about perceptrons, audio classification, and linearly separable data.**\n",
    "\n",
    "We learned that perceptrons, which are natrurally linear classifiers, can also be use to classify non linear data. How did we accomplish this task? We used a non-linear featurization (changing raw audio data to frequency domain data). This was a very strong method of reducing the dimesnionality of our input data to something more managable and representative of the data. We also learned that something as simple as a single layer perceptron can be surprisingly powerful given the right data and the right choice of features. "
   ]
  },
  {
   "cell_type": "code",
   "execution_count": null,
   "metadata": {},
   "outputs": [],
   "source": []
  }
 ],
 "metadata": {
  "kernelspec": {
   "display_name": "Python 3",
   "language": "python",
   "name": "python3"
  },
  "language_info": {
   "codemirror_mode": {
    "name": "ipython",
    "version": 3
   },
   "file_extension": ".py",
   "mimetype": "text/x-python",
   "name": "python",
   "nbconvert_exporter": "python",
   "pygments_lexer": "ipython3",
   "version": "3.7.4"
  }
 },
 "nbformat": 4,
 "nbformat_minor": 4
}
